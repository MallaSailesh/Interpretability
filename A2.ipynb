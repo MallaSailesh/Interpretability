{
  "cells": [
    {
      "cell_type": "markdown",
      "metadata": {
        "id": "-2Nd-fgo-ZK-"
      },
      "source": [
        "# Interpretability Assignment"
      ]
    },
    {
      "cell_type": "markdown",
      "metadata": {
        "id": "sJZp2DEV-ZLB"
      },
      "source": [
        "Language models are trained to predict tokens given other tokens. More specifically, the autoregressive Language Modelling objective is given by the following distribution:\n",
        "\n",
        "$$\n",
        "P(w_{t} \\mid w_{t-1}, w_{t-2} \\dots w_0)\n",
        "$$\n",
        "\n",
        "The standard Transformer-based Language Model sees tokens as the lowest granularity of language. It sees tokens as entities and predicts other tokens. These models are not given the spelling of a token explicitly.\n",
        "\n",
        "The question we ask in this assignment is, \"to what extent do the representations of words from an LM encode character information?\"\n",
        "\n",
        "\"What is it about the Language Modelling objective that allows a model to deduce something about the characters of a token?\"\n",
        "\n",
        "\n",
        "To accomplish our purposes, we will conduct probing studies.\n",
        "- design a task that relies on the spelling of a word.\n",
        "- check if a thin (one layer) classifier can be trained on top of LM embeddings to do this task.\n",
        "- design a control to check whether the task is too easy."
      ]
    },
    {
      "cell_type": "code",
      "execution_count": 2,
      "metadata": {
        "id": "-0iPI07B-ZLB"
      },
      "outputs": [],
      "source": [
        "import torch"
      ]
    },
    {
      "cell_type": "markdown",
      "metadata": {
        "id": "MHAseWuh-ZLD"
      },
      "source": [
        "## Initializing the model\n",
        "\n",
        "We will be studying a pretrained RoBERTa model. Run the cell below to initialize it."
      ]
    },
    {
      "cell_type": "code",
      "execution_count": 3,
      "metadata": {
        "colab": {
          "base_uri": "https://localhost:8080/",
          "height": 373,
          "referenced_widgets": [
            "49ae2e134ed1495a906182cb88f48351",
            "b24b1328d5b34d47843e9621aca47817",
            "02b34abc84424ed886cb9d9411d9188b",
            "e61a224fa7f54223b836a6654abb2ec6",
            "4b77ebf1e9944e7b9b300a692be4d380",
            "a5d1f398f8644d7d9e9f0589e3969f10",
            "5ceea0d1df9f4d759a6d72d540422793",
            "1a43283f5a06462295d443cb5a663713",
            "4d38282c50544e0ca60712a67dbf10bd",
            "016d3036287d4c32b87f467648cf0b95",
            "cc14adbf62a4491d84ecc34c130fc405",
            "7f3f77066c9447dcb0b885a63ae2256e",
            "7f05b1edd64c4f9cb23eb2743312b8b2",
            "46c533b8638a4f9db4facf0389b7de6b",
            "fdb34f2c46b246b494bc5d25ad995e2c",
            "614eceaeb2594a4f9699a702aee4175f",
            "bd5184c79a084da1abc7fa9a863ba6d3",
            "043a4ff031cb4410a89f4ab9d4a8a6ff",
            "98f04a5a63f1464eac8602225fd52941",
            "e8e07ba4e2264ea99bbc9753f87a9754",
            "b9f65dcc1a774951a8ed64d9099db399",
            "3c6845db986f476282e1ad508b5ed869",
            "4da7697c22c64bafa3f6dfffb272430d",
            "55fd6cae7f8b4fa1a5e04631291c82e1",
            "e3654ddee2b34fd3981e405cbc807c1d",
            "0e1ac8003328458b8794fae5ed2b7f11",
            "72c95b1eab004cba8271628551293e4c",
            "52d26fe7aedc45949ff10e2b5611aee5",
            "90309082c65e454c9a9d0d4c1aa54416",
            "14b3dbb421ee47b89740e829c5c24d4d",
            "5812f199b846445f8af814b93b848f4a",
            "e161e8d8f3104cba94f1d7b29214f3d2",
            "313ec13f38ee4aafb62e55262807a990",
            "99fd7b9b3f8b408393a10a5fb08b670c",
            "b5457491d2164abc91fb485cd3655851",
            "d519495424e44a58831676c8e3329f28",
            "65479530fb0e4c4f87e0b3a79d53f4f9",
            "a307d0a33e5941ffb45d2ac6ade71e63",
            "41db11fd148b440a856e68ee98f440ff",
            "64b296caf84844fd841b5d3e93a0ee6c",
            "926b4e06a66445b38214f53a71d6c3bf",
            "d54d68c911fc4b9b8dd7bdb69a2dc68f",
            "7eb44bd6079d4f6a9eb9666bb5a557a5",
            "5c430daf3c654e7b9a5ea36d64136b7f",
            "217b4c1364ae492797de4d037216d442",
            "c3088f6b763c4a9987a5a282d8d4bb65",
            "09ba6a00874042e5ac66731742d2019d",
            "41b8785aef8e4915b78586efd9274f2f",
            "a2824e7b4fc84a4a8a4edce89c9bb647",
            "a76f7008e45c4bc39fa5159261c41d53",
            "20de2eb437e34b9680f8c93eb6a9965f",
            "b164f32ba8644146acb4167ee7287f50",
            "7cd276ae872b4904ae975036c5e602da",
            "e2c40d25614040a48f85d7e6f6738e8a",
            "45406984b43c4a82a5d294a2c0270499",
            "2c53bc3fd57d41cf94262f4e184167ba",
            "e19aa53ab9ff456facc8c8d61973d88b",
            "50917b6e4cd541f5ae98d941dd14eb28",
            "a00d115e6473405cbce8ed26779dee69",
            "f0fc9256212c446cb49daccbd24f2a73",
            "bebb24848e414f71a65f521407804eae",
            "ee89fedd98824fb28333188227cd615c",
            "57632e4b46c14d478bb77880ff5ce843",
            "d9f28c01cf1344e8a1390d6e372e0e22",
            "baf70836f57d438d9ba972b094fbe347",
            "078ae8bc3cd249e9bc7a0782c42ad2da"
          ]
        },
        "id": "RbkNDa3--ZLD",
        "outputId": "94a645ec-5746-4e4e-f737-d09379857dd5"
      },
      "outputs": [
        {
          "output_type": "stream",
          "name": "stderr",
          "text": [
            "/usr/local/lib/python3.10/dist-packages/huggingface_hub/utils/_token.py:88: UserWarning: \n",
            "The secret `HF_TOKEN` does not exist in your Colab secrets.\n",
            "To authenticate with the Hugging Face Hub, create a token in your settings tab (https://huggingface.co/settings/tokens), set it as secret in your Google Colab and restart your session.\n",
            "You will be able to reuse this secret in all of your notebooks.\n",
            "Please note that authentication is recommended but still optional to access public models or datasets.\n",
            "  warnings.warn(\n"
          ]
        },
        {
          "output_type": "display_data",
          "data": {
            "text/plain": [
              "config.json:   0%|          | 0.00/481 [00:00<?, ?B/s]"
            ],
            "application/vnd.jupyter.widget-view+json": {
              "version_major": 2,
              "version_minor": 0,
              "model_id": "49ae2e134ed1495a906182cb88f48351"
            }
          },
          "metadata": {}
        },
        {
          "output_type": "display_data",
          "data": {
            "text/plain": [
              "model.safetensors:   0%|          | 0.00/499M [00:00<?, ?B/s]"
            ],
            "application/vnd.jupyter.widget-view+json": {
              "version_major": 2,
              "version_minor": 0,
              "model_id": "7f3f77066c9447dcb0b885a63ae2256e"
            }
          },
          "metadata": {}
        },
        {
          "output_type": "stream",
          "name": "stderr",
          "text": [
            "Some weights of RobertaModel were not initialized from the model checkpoint at roberta-base and are newly initialized: ['roberta.pooler.dense.bias', 'roberta.pooler.dense.weight']\n",
            "You should probably TRAIN this model on a down-stream task to be able to use it for predictions and inference.\n"
          ]
        },
        {
          "output_type": "display_data",
          "data": {
            "text/plain": [
              "tokenizer_config.json:   0%|          | 0.00/25.0 [00:00<?, ?B/s]"
            ],
            "application/vnd.jupyter.widget-view+json": {
              "version_major": 2,
              "version_minor": 0,
              "model_id": "4da7697c22c64bafa3f6dfffb272430d"
            }
          },
          "metadata": {}
        },
        {
          "output_type": "display_data",
          "data": {
            "text/plain": [
              "vocab.json:   0%|          | 0.00/899k [00:00<?, ?B/s]"
            ],
            "application/vnd.jupyter.widget-view+json": {
              "version_major": 2,
              "version_minor": 0,
              "model_id": "99fd7b9b3f8b408393a10a5fb08b670c"
            }
          },
          "metadata": {}
        },
        {
          "output_type": "display_data",
          "data": {
            "text/plain": [
              "merges.txt:   0%|          | 0.00/456k [00:00<?, ?B/s]"
            ],
            "application/vnd.jupyter.widget-view+json": {
              "version_major": 2,
              "version_minor": 0,
              "model_id": "217b4c1364ae492797de4d037216d442"
            }
          },
          "metadata": {}
        },
        {
          "output_type": "display_data",
          "data": {
            "text/plain": [
              "tokenizer.json:   0%|          | 0.00/1.36M [00:00<?, ?B/s]"
            ],
            "application/vnd.jupyter.widget-view+json": {
              "version_major": 2,
              "version_minor": 0,
              "model_id": "2c53bc3fd57d41cf94262f4e184167ba"
            }
          },
          "metadata": {}
        }
      ],
      "source": [
        "# loading a small model\n",
        "\n",
        "from transformers import AutoTokenizer, AutoModel, AutoConfig\n",
        "\n",
        "config = AutoConfig.from_pretrained(\"roberta-base\")\n",
        "model = AutoModel.from_pretrained(\"roberta-base\", config=config)\n",
        "model.eval()\n",
        "model.cuda()\n",
        "tokenizer = AutoTokenizer.from_pretrained(\"roberta-base\")"
      ]
    },
    {
      "cell_type": "markdown",
      "metadata": {
        "id": "c55ZR1PR-ZLE"
      },
      "source": [
        "## Example tokenization\n",
        "\n",
        "Any input text given to the model is first toknized. Typically this is sub-word tokenization i.e. words are broken down further.\n",
        "\n",
        "A sub subword is the most atomic input given to a language model. For example."
      ]
    },
    {
      "cell_type": "code",
      "execution_count": 3,
      "metadata": {
        "colab": {
          "base_uri": "https://localhost:8080/"
        },
        "id": "OBsv-9ZU-ZLE",
        "outputId": "cd23766a-12db-47f8-aa96-e4c48ca65e80"
      },
      "outputs": [
        {
          "output_type": "execute_result",
          "data": {
            "text/plain": [
              "['This', 'Ġis', 'Ġan', 'Ġexample', 'Ġtoken', 'ization']"
            ]
          },
          "metadata": {},
          "execution_count": 3
        }
      ],
      "source": [
        "sentence = \"This is an example tokenization\"\n",
        "tokenizer.tokenize(sentence)"
      ]
    },
    {
      "cell_type": "markdown",
      "metadata": {
        "id": "CbOwkatj-ZLE"
      },
      "source": [
        "As can be seen above, the word \"tokenzation\" has been broken down into \"token\" and \"ization\"\n",
        "\n",
        "There is no explicit granulairity more than this. In other words, the model __does not directly__ see letters of a word.\n",
        "\n",
        "The Language Model is trained to predict the next token given the previous tokens. Should this give it a sense of what letters exist in that token?"
      ]
    },
    {
      "cell_type": "markdown",
      "metadata": {
        "id": "O64SZTrO-ZLF"
      },
      "source": [
        "## Experiment 1\n",
        "\n",
        "Can the model do something simple like distinguish between capitalized and non-capitalized words?\n",
        "\n",
        "In other words, we ask if there is a reliable signal in the representations from the model for us to be able to predict whether a word is capitalized or not."
      ]
    },
    {
      "cell_type": "markdown",
      "metadata": {
        "id": "Sz8MpOee-ZLF"
      },
      "source": [
        "### Q1.1 Make appropriate dataset"
      ]
    },
    {
      "cell_type": "code",
      "source": [
        "!git clone https://github.com/dwyl/english-words.git"
      ],
      "metadata": {
        "colab": {
          "base_uri": "https://localhost:8080/"
        },
        "id": "ctvxtv9K_AIh",
        "outputId": "e8b38960-31d1-4348-cffd-59b941ad9f3c"
      },
      "execution_count": 4,
      "outputs": [
        {
          "output_type": "stream",
          "name": "stdout",
          "text": [
            "Cloning into 'english-words'...\n",
            "remote: Enumerating objects: 248, done.\u001b[K\n",
            "remote: Counting objects: 100% (125/125), done.\u001b[K\n",
            "remote: Compressing objects: 100% (42/42), done.\u001b[K\n",
            "remote: Total 248 (delta 97), reused 83 (delta 83), pack-reused 123\u001b[K\n",
            "Receiving objects: 100% (248/248), 27.63 MiB | 27.10 MiB/s, done.\n",
            "Resolving deltas: 100% (117/117), done.\n"
          ]
        }
      ]
    },
    {
      "cell_type": "code",
      "execution_count": 5,
      "metadata": {
        "id": "fHckGkST-ZLF"
      },
      "outputs": [],
      "source": [
        "words_list = []\n",
        "with open(\"english-words/words_alpha.txt\") as f:\n",
        "    for line in f:\n",
        "        words_list.append(line.strip())\n"
      ]
    },
    {
      "cell_type": "markdown",
      "metadata": {
        "id": "swcHA8Ek-ZLG"
      },
      "source": [
        "Take the word list and phrase a classification problem to check the above sub-task:\n",
        "\n",
        "- Make a train set\n",
        "- Make a validation set\n",
        "- Make a test set"
      ]
    },
    {
      "cell_type": "code",
      "execution_count": 6,
      "metadata": {
        "id": "--sZ0Xl1-ZLG"
      },
      "outputs": [],
      "source": [
        "word_list_small = [word.lower() for word in words_list]\n",
        "dataset = []\n",
        "\n",
        "label = 0\n",
        "import random\n",
        "for i, word in enumerate(word_list_small):\n",
        "    if random.random() > 0.5:\n",
        "        label = 1\n",
        "        word = word.capitalize()\n",
        "    else:\n",
        "        label = 0\n",
        "    dataset.append((word, label,))"
      ]
    },
    {
      "cell_type": "code",
      "execution_count": 7,
      "metadata": {
        "id": "-8KyzYmV-ZLH"
      },
      "outputs": [],
      "source": [
        "from sklearn.model_selection import train_test_split\n",
        "# split into three\n",
        "train, test = train_test_split(dataset, test_size=0.2)\n",
        "train, val = train_test_split(train, test_size=0.2)"
      ]
    },
    {
      "cell_type": "code",
      "execution_count": 8,
      "metadata": {
        "id": "ftbYQSGL-ZLH",
        "outputId": "8435579c-7dc9-440b-9d63-cbd8e06bca9f",
        "colab": {
          "base_uri": "https://localhost:8080/"
        }
      },
      "outputs": [
        {
          "output_type": "stream",
          "name": "stdout",
          "text": [
            "All checks passed\n"
          ]
        }
      ],
      "source": [
        "def check_train_val_test_splits(train, val, test):\n",
        "    assert len(train) > 0\n",
        "    assert len(val) > 0\n",
        "    assert len(test) > 0\n",
        "    train_set = set(train)\n",
        "    val_set = set(val)\n",
        "    test_set = set(test)\n",
        "    assert len(train_set.intersection(val_set)) == 0\n",
        "    assert len(train_set.intersection(test_set)) == 0\n",
        "    assert len(val_set.intersection(test_set)) == 0\n",
        "    print(\"All checks passed\")\n",
        "\n",
        "\n",
        "# pass your datasets here\n",
        "check_train_val_test_splits(train, val, test)"
      ]
    },
    {
      "cell_type": "code",
      "execution_count": 9,
      "metadata": {
        "id": "4INUU6JA-ZLH"
      },
      "outputs": [],
      "source": [
        "DEVICE = \"cuda\""
      ]
    },
    {
      "cell_type": "markdown",
      "metadata": {
        "id": "1axFQ9X5-ZLI"
      },
      "source": [
        "### Get the embeddings from the model for those words"
      ]
    },
    {
      "cell_type": "code",
      "execution_count": 10,
      "metadata": {
        "id": "_XaWlQBL-ZLI"
      },
      "outputs": [],
      "source": [
        "def get_embeddings_all_layers(model, tokenizer, data, pool_func, layer=-1,):\n",
        "    embed_list = []\n",
        "    for word, label in data:\n",
        "        # print(word)\n",
        "        inputs = tokenizer(word, return_tensors=\"pt\").to(device=DEVICE)\n",
        "        # print(inputs)\n",
        "        embeddings = model(**inputs, output_hidden_states=True)\n",
        "        # embeddings = torch.stack(outputs.hidden_states).squeeze()\n",
        "        embeddings = embeddings.hidden_states[layer].detach().cpu().numpy()\n",
        "        embeddings = pool_func(embeddings, dim=-2)\n",
        "        # print(embeddings.shape)\n",
        "        embed_list.append(embeddings)\n",
        "    return embed_list"
      ]
    },
    {
      "cell_type": "code",
      "execution_count": 11,
      "metadata": {
        "id": "GOFd-7LY-ZLI"
      },
      "outputs": [],
      "source": [
        "import torch\n",
        "import numpy as np\n",
        "\n",
        "\n",
        "# randomly chose 50% of the train data\n",
        "train_small = random.sample(train, int(len(train) * 0.005))\n",
        "test_small = random.sample(test, int(len(train) * 0.005))\n",
        "\n",
        "\n",
        "embeds = get_embeddings_all_layers(model, tokenizer, train_small, pool_func=lambda x, dim: np.mean(x, axis=dim), layer=-1)\n",
        "embeds_test = get_embeddings_all_layers(model, tokenizer, test_small, pool_func=lambda x, dim: np.mean(x, axis=dim), layer=-1)\n",
        "\n",
        "\n",
        "assert embeds[0].shape[-1] == config.hidden_size\n"
      ]
    },
    {
      "cell_type": "code",
      "execution_count": 12,
      "metadata": {
        "id": "1zmeiI4H-ZLI"
      },
      "outputs": [],
      "source": [
        "# concatenate the embeddings\n",
        "embeds = np.concatenate(embeds, axis=0)\n",
        "embeds_test = np.concatenate(embeds_test, axis=0)"
      ]
    },
    {
      "cell_type": "code",
      "execution_count": 13,
      "metadata": {
        "id": "jfua90iI-ZLJ",
        "colab": {
          "base_uri": "https://localhost:8080/"
        },
        "outputId": "87ec1480-48a6-4b9f-851c-6808b9f5f988"
      },
      "outputs": [
        {
          "output_type": "execute_result",
          "data": {
            "text/plain": [
              "array([[-0.01021133,  0.06039903,  0.03150121, ...,  0.05272496,\n",
              "        -0.02185433, -0.04844573],\n",
              "       [-0.04091341,  0.01055863,  0.01710375, ..., -0.1116055 ,\n",
              "        -0.03074742,  0.04124694],\n",
              "       [ 0.00461452,  0.1775925 , -0.04015317, ..., -0.01314882,\n",
              "         0.06834413, -0.15109256],\n",
              "       ...,\n",
              "       [-0.01085418,  0.11937785,  0.03584519, ..., -0.10338829,\n",
              "        -0.11564966, -0.00783099],\n",
              "       [-0.00175118,  0.03893377, -0.01880038, ..., -0.10808038,\n",
              "        -0.02732598, -0.06182551],\n",
              "       [-0.06351298,  0.1287729 ,  0.02109555, ..., -0.24021253,\n",
              "        -0.09345898, -0.03108136]], dtype=float32)"
            ]
          },
          "metadata": {},
          "execution_count": 13
        }
      ],
      "source": [
        "embeds"
      ]
    },
    {
      "cell_type": "markdown",
      "metadata": {
        "id": "EiX1xe7G-ZLJ"
      },
      "source": [
        "### Make a classifier"
      ]
    },
    {
      "cell_type": "code",
      "execution_count": 13,
      "metadata": {
        "id": "EFYJaM16-ZLJ"
      },
      "outputs": [],
      "source": [
        "from sklearn.linear_model import LogisticRegression"
      ]
    },
    {
      "cell_type": "code",
      "execution_count": 14,
      "metadata": {
        "id": "NHVxnej4-ZLJ",
        "outputId": "4ac7f301-ecd6-42c8-f1db-5d297cd6d6fe",
        "colab": {
          "base_uri": "https://localhost:8080/",
          "height": 74
        }
      },
      "outputs": [
        {
          "output_type": "execute_result",
          "data": {
            "text/plain": [
              "LogisticRegression(max_iter=1000)"
            ],
            "text/html": [
              "<style>#sk-container-id-1 {color: black;background-color: white;}#sk-container-id-1 pre{padding: 0;}#sk-container-id-1 div.sk-toggleable {background-color: white;}#sk-container-id-1 label.sk-toggleable__label {cursor: pointer;display: block;width: 100%;margin-bottom: 0;padding: 0.3em;box-sizing: border-box;text-align: center;}#sk-container-id-1 label.sk-toggleable__label-arrow:before {content: \"▸\";float: left;margin-right: 0.25em;color: #696969;}#sk-container-id-1 label.sk-toggleable__label-arrow:hover:before {color: black;}#sk-container-id-1 div.sk-estimator:hover label.sk-toggleable__label-arrow:before {color: black;}#sk-container-id-1 div.sk-toggleable__content {max-height: 0;max-width: 0;overflow: hidden;text-align: left;background-color: #f0f8ff;}#sk-container-id-1 div.sk-toggleable__content pre {margin: 0.2em;color: black;border-radius: 0.25em;background-color: #f0f8ff;}#sk-container-id-1 input.sk-toggleable__control:checked~div.sk-toggleable__content {max-height: 200px;max-width: 100%;overflow: auto;}#sk-container-id-1 input.sk-toggleable__control:checked~label.sk-toggleable__label-arrow:before {content: \"▾\";}#sk-container-id-1 div.sk-estimator input.sk-toggleable__control:checked~label.sk-toggleable__label {background-color: #d4ebff;}#sk-container-id-1 div.sk-label input.sk-toggleable__control:checked~label.sk-toggleable__label {background-color: #d4ebff;}#sk-container-id-1 input.sk-hidden--visually {border: 0;clip: rect(1px 1px 1px 1px);clip: rect(1px, 1px, 1px, 1px);height: 1px;margin: -1px;overflow: hidden;padding: 0;position: absolute;width: 1px;}#sk-container-id-1 div.sk-estimator {font-family: monospace;background-color: #f0f8ff;border: 1px dotted black;border-radius: 0.25em;box-sizing: border-box;margin-bottom: 0.5em;}#sk-container-id-1 div.sk-estimator:hover {background-color: #d4ebff;}#sk-container-id-1 div.sk-parallel-item::after {content: \"\";width: 100%;border-bottom: 1px solid gray;flex-grow: 1;}#sk-container-id-1 div.sk-label:hover label.sk-toggleable__label {background-color: #d4ebff;}#sk-container-id-1 div.sk-serial::before {content: \"\";position: absolute;border-left: 1px solid gray;box-sizing: border-box;top: 0;bottom: 0;left: 50%;z-index: 0;}#sk-container-id-1 div.sk-serial {display: flex;flex-direction: column;align-items: center;background-color: white;padding-right: 0.2em;padding-left: 0.2em;position: relative;}#sk-container-id-1 div.sk-item {position: relative;z-index: 1;}#sk-container-id-1 div.sk-parallel {display: flex;align-items: stretch;justify-content: center;background-color: white;position: relative;}#sk-container-id-1 div.sk-item::before, #sk-container-id-1 div.sk-parallel-item::before {content: \"\";position: absolute;border-left: 1px solid gray;box-sizing: border-box;top: 0;bottom: 0;left: 50%;z-index: -1;}#sk-container-id-1 div.sk-parallel-item {display: flex;flex-direction: column;z-index: 1;position: relative;background-color: white;}#sk-container-id-1 div.sk-parallel-item:first-child::after {align-self: flex-end;width: 50%;}#sk-container-id-1 div.sk-parallel-item:last-child::after {align-self: flex-start;width: 50%;}#sk-container-id-1 div.sk-parallel-item:only-child::after {width: 0;}#sk-container-id-1 div.sk-dashed-wrapped {border: 1px dashed gray;margin: 0 0.4em 0.5em 0.4em;box-sizing: border-box;padding-bottom: 0.4em;background-color: white;}#sk-container-id-1 div.sk-label label {font-family: monospace;font-weight: bold;display: inline-block;line-height: 1.2em;}#sk-container-id-1 div.sk-label-container {text-align: center;}#sk-container-id-1 div.sk-container {/* jupyter's `normalize.less` sets `[hidden] { display: none; }` but bootstrap.min.css set `[hidden] { display: none !important; }` so we also need the `!important` here to be able to override the default hidden behavior on the sphinx rendered scikit-learn.org. See: https://github.com/scikit-learn/scikit-learn/issues/21755 */display: inline-block !important;position: relative;}#sk-container-id-1 div.sk-text-repr-fallback {display: none;}</style><div id=\"sk-container-id-1\" class=\"sk-top-container\"><div class=\"sk-text-repr-fallback\"><pre>LogisticRegression(max_iter=1000)</pre><b>In a Jupyter environment, please rerun this cell to show the HTML representation or trust the notebook. <br />On GitHub, the HTML representation is unable to render, please try loading this page with nbviewer.org.</b></div><div class=\"sk-container\" hidden><div class=\"sk-item\"><div class=\"sk-estimator sk-toggleable\"><input class=\"sk-toggleable__control sk-hidden--visually\" id=\"sk-estimator-id-1\" type=\"checkbox\" checked><label for=\"sk-estimator-id-1\" class=\"sk-toggleable__label sk-toggleable__label-arrow\">LogisticRegression</label><div class=\"sk-toggleable__content\"><pre>LogisticRegression(max_iter=1000)</pre></div></div></div></div></div>"
            ]
          },
          "metadata": {},
          "execution_count": 14
        }
      ],
      "source": [
        "log_regress = LogisticRegression(max_iter=1000)\n",
        "log_regress.fit(embeds, [train_small[i][1] for i in range(len(train_small))])"
      ]
    },
    {
      "cell_type": "code",
      "execution_count": 15,
      "metadata": {
        "id": "__IcMjq2-ZLJ"
      },
      "outputs": [],
      "source": [
        "from sklearn.metrics import classification_report"
      ]
    },
    {
      "cell_type": "code",
      "execution_count": 16,
      "metadata": {
        "id": "mMXoM4y--ZLK",
        "outputId": "4a51a7a0-90c6-4ada-c360-58b35cd3f531",
        "colab": {
          "base_uri": "https://localhost:8080/"
        }
      },
      "outputs": [
        {
          "output_type": "stream",
          "name": "stdout",
          "text": [
            "              precision    recall  f1-score   support\n",
            "\n",
            "           0       0.99      0.99      0.99       564\n",
            "           1       0.99      0.99      0.99       620\n",
            "\n",
            "    accuracy                           0.99      1184\n",
            "   macro avg       0.99      0.99      0.99      1184\n",
            "weighted avg       0.99      0.99      0.99      1184\n",
            "\n"
          ]
        }
      ],
      "source": [
        "print(classification_report([test_small[i][1] for i in range(len(test_small))], log_regress.predict(embeds_test)))"
      ]
    },
    {
      "cell_type": "markdown",
      "metadata": {
        "id": "Z8G6mvS5-ZLK"
      },
      "source": [
        "## Extracting specific letter information from encodings\n",
        "\n",
        "Check if the model embeddings encode information about the _first_ letter of a word.\n",
        "\n",
        "Code up the experiment for this\n",
        "\n",
        "- Make a balanced dataset __[4]__\n",
        "- Train a classifier __[2]__\n",
        "- Print a  classification report __[2]__\n"
      ]
    },
    {
      "cell_type": "code",
      "source": [
        "import random\n",
        "from collections import defaultdict\n",
        "\n",
        "def create_balanced_first_letter_dataset(words, num_samples_per_letter):\n",
        "    dataset = []\n",
        "    letter_counts = defaultdict(int)\n",
        "\n",
        "    for word in words:\n",
        "        first_letter = word[0].lower()  # Normalize to lowercase\n",
        "        if letter_counts[first_letter] < num_samples_per_letter:\n",
        "            label = ord(first_letter) - ord('a')  # Map letters to labels (a -> 0, b -> 1, etc. )\n",
        "            dataset.append((word, label))\n",
        "            letter_counts[first_letter] += 1\n",
        "\n",
        "    random.shuffle(dataset)  # Shuffle for randomness\n",
        "    return dataset\n",
        "\n",
        "dataset = create_balanced_first_letter_dataset(words_list, num_samples_per_letter=100)"
      ],
      "metadata": {
        "id": "2qCwOEgJ_k58"
      },
      "execution_count": 19,
      "outputs": []
    },
    {
      "cell_type": "code",
      "source": [
        "from sklearn.model_selection import train_test_split\n",
        "from sklearn.linear_model import LogisticRegression\n",
        "from sklearn.metrics import classification_report\n",
        "\n",
        "# Split the dataset (consider stratified splitting for future experiments)\n",
        "X_train, X_test = train_test_split(dataset, test_size=0.2, random_state=42)\n",
        "\n",
        "# Obtain embeddings for the train and test sets\n",
        "train_embeds = get_embeddings_all_layers(model, tokenizer, X_train, pool_func=lambda x, dim: np.mean(x, axis=dim))\n",
        "test_embeds = get_embeddings_all_layers(model, tokenizer, X_test, pool_func=lambda x, dim: np.mean(x, axis=dim))\n",
        "\n",
        "# concatenate the embeddings\n",
        "train_embeds = np.concatenate(train_embeds, axis=0)\n",
        "test_embeds = np.concatenate(test_embeds, axis=0)\n",
        "\n",
        "# Train the classifier\n",
        "classifier = LogisticRegression(max_iter=1000)\n",
        "classifier.fit(train_embeds, [X_train[i][1] for i in range(len(X_train))])"
      ],
      "metadata": {
        "colab": {
          "base_uri": "https://localhost:8080/",
          "height": 74
        },
        "id": "1MUNO86mBYkP",
        "outputId": "8192a544-1ce7-4e54-88af-003ee82e2c40"
      },
      "execution_count": 20,
      "outputs": [
        {
          "output_type": "execute_result",
          "data": {
            "text/plain": [
              "LogisticRegression(max_iter=1000)"
            ],
            "text/html": [
              "<style>#sk-container-id-2 {color: black;background-color: white;}#sk-container-id-2 pre{padding: 0;}#sk-container-id-2 div.sk-toggleable {background-color: white;}#sk-container-id-2 label.sk-toggleable__label {cursor: pointer;display: block;width: 100%;margin-bottom: 0;padding: 0.3em;box-sizing: border-box;text-align: center;}#sk-container-id-2 label.sk-toggleable__label-arrow:before {content: \"▸\";float: left;margin-right: 0.25em;color: #696969;}#sk-container-id-2 label.sk-toggleable__label-arrow:hover:before {color: black;}#sk-container-id-2 div.sk-estimator:hover label.sk-toggleable__label-arrow:before {color: black;}#sk-container-id-2 div.sk-toggleable__content {max-height: 0;max-width: 0;overflow: hidden;text-align: left;background-color: #f0f8ff;}#sk-container-id-2 div.sk-toggleable__content pre {margin: 0.2em;color: black;border-radius: 0.25em;background-color: #f0f8ff;}#sk-container-id-2 input.sk-toggleable__control:checked~div.sk-toggleable__content {max-height: 200px;max-width: 100%;overflow: auto;}#sk-container-id-2 input.sk-toggleable__control:checked~label.sk-toggleable__label-arrow:before {content: \"▾\";}#sk-container-id-2 div.sk-estimator input.sk-toggleable__control:checked~label.sk-toggleable__label {background-color: #d4ebff;}#sk-container-id-2 div.sk-label input.sk-toggleable__control:checked~label.sk-toggleable__label {background-color: #d4ebff;}#sk-container-id-2 input.sk-hidden--visually {border: 0;clip: rect(1px 1px 1px 1px);clip: rect(1px, 1px, 1px, 1px);height: 1px;margin: -1px;overflow: hidden;padding: 0;position: absolute;width: 1px;}#sk-container-id-2 div.sk-estimator {font-family: monospace;background-color: #f0f8ff;border: 1px dotted black;border-radius: 0.25em;box-sizing: border-box;margin-bottom: 0.5em;}#sk-container-id-2 div.sk-estimator:hover {background-color: #d4ebff;}#sk-container-id-2 div.sk-parallel-item::after {content: \"\";width: 100%;border-bottom: 1px solid gray;flex-grow: 1;}#sk-container-id-2 div.sk-label:hover label.sk-toggleable__label {background-color: #d4ebff;}#sk-container-id-2 div.sk-serial::before {content: \"\";position: absolute;border-left: 1px solid gray;box-sizing: border-box;top: 0;bottom: 0;left: 50%;z-index: 0;}#sk-container-id-2 div.sk-serial {display: flex;flex-direction: column;align-items: center;background-color: white;padding-right: 0.2em;padding-left: 0.2em;position: relative;}#sk-container-id-2 div.sk-item {position: relative;z-index: 1;}#sk-container-id-2 div.sk-parallel {display: flex;align-items: stretch;justify-content: center;background-color: white;position: relative;}#sk-container-id-2 div.sk-item::before, #sk-container-id-2 div.sk-parallel-item::before {content: \"\";position: absolute;border-left: 1px solid gray;box-sizing: border-box;top: 0;bottom: 0;left: 50%;z-index: -1;}#sk-container-id-2 div.sk-parallel-item {display: flex;flex-direction: column;z-index: 1;position: relative;background-color: white;}#sk-container-id-2 div.sk-parallel-item:first-child::after {align-self: flex-end;width: 50%;}#sk-container-id-2 div.sk-parallel-item:last-child::after {align-self: flex-start;width: 50%;}#sk-container-id-2 div.sk-parallel-item:only-child::after {width: 0;}#sk-container-id-2 div.sk-dashed-wrapped {border: 1px dashed gray;margin: 0 0.4em 0.5em 0.4em;box-sizing: border-box;padding-bottom: 0.4em;background-color: white;}#sk-container-id-2 div.sk-label label {font-family: monospace;font-weight: bold;display: inline-block;line-height: 1.2em;}#sk-container-id-2 div.sk-label-container {text-align: center;}#sk-container-id-2 div.sk-container {/* jupyter's `normalize.less` sets `[hidden] { display: none; }` but bootstrap.min.css set `[hidden] { display: none !important; }` so we also need the `!important` here to be able to override the default hidden behavior on the sphinx rendered scikit-learn.org. See: https://github.com/scikit-learn/scikit-learn/issues/21755 */display: inline-block !important;position: relative;}#sk-container-id-2 div.sk-text-repr-fallback {display: none;}</style><div id=\"sk-container-id-2\" class=\"sk-top-container\"><div class=\"sk-text-repr-fallback\"><pre>LogisticRegression(max_iter=1000)</pre><b>In a Jupyter environment, please rerun this cell to show the HTML representation or trust the notebook. <br />On GitHub, the HTML representation is unable to render, please try loading this page with nbviewer.org.</b></div><div class=\"sk-container\" hidden><div class=\"sk-item\"><div class=\"sk-estimator sk-toggleable\"><input class=\"sk-toggleable__control sk-hidden--visually\" id=\"sk-estimator-id-2\" type=\"checkbox\" checked><label for=\"sk-estimator-id-2\" class=\"sk-toggleable__label sk-toggleable__label-arrow\">LogisticRegression</label><div class=\"sk-toggleable__content\"><pre>LogisticRegression(max_iter=1000)</pre></div></div></div></div></div>"
            ]
          },
          "metadata": {},
          "execution_count": 20
        }
      ]
    },
    {
      "cell_type": "code",
      "source": [
        "print(classification_report([X_test[i][1] for i in range(len(X_test))], classifier.predict(test_embeds)))"
      ],
      "metadata": {
        "colab": {
          "base_uri": "https://localhost:8080/"
        },
        "id": "ZqebbjKYDlPI",
        "outputId": "f4d20580-b78e-4273-a3f3-cdf75a8a5b27"
      },
      "execution_count": 21,
      "outputs": [
        {
          "output_type": "stream",
          "name": "stdout",
          "text": [
            "              precision    recall  f1-score   support\n",
            "\n",
            "           0       0.70      0.54      0.61        13\n",
            "           1       0.94      0.89      0.92        19\n",
            "           2       1.00      1.00      1.00        15\n",
            "           3       1.00      1.00      1.00        27\n",
            "           4       0.58      0.95      0.72        19\n",
            "           5       1.00      0.73      0.84        22\n",
            "           6       1.00      0.94      0.97        18\n",
            "           7       0.91      1.00      0.95        20\n",
            "           8       0.85      0.76      0.80        29\n",
            "           9       0.77      0.74      0.76        23\n",
            "          10       0.95      0.95      0.95        22\n",
            "          11       0.84      0.91      0.87        23\n",
            "          12       0.96      1.00      0.98        24\n",
            "          13       1.00      1.00      1.00        22\n",
            "          14       0.95      0.75      0.84        24\n",
            "          15       1.00      0.88      0.93        16\n",
            "          16       1.00      0.83      0.90        23\n",
            "          17       0.93      0.93      0.93        15\n",
            "          18       0.95      1.00      0.97        18\n",
            "          19       0.79      0.79      0.79        14\n",
            "          20       0.53      0.89      0.67        19\n",
            "          21       0.94      0.94      0.94        16\n",
            "          22       1.00      0.93      0.96        28\n",
            "          23       1.00      1.00      1.00        14\n",
            "          24       1.00      0.71      0.83        17\n",
            "          25       0.91      1.00      0.95        20\n",
            "\n",
            "    accuracy                           0.89       520\n",
            "   macro avg       0.90      0.89      0.89       520\n",
            "weighted avg       0.91      0.89      0.89       520\n",
            "\n"
          ]
        }
      ]
    },
    {
      "cell_type": "markdown",
      "metadata": {
        "id": "m4F8r_53-ZLK"
      },
      "source": [
        "## Do we need 'real' words?\n",
        "\n",
        "Devise an experiment to check if the model is using semantic information to make its predictions (and not some direct notion of spelling)\n",
        "\n",
        "- Design an experiment to make it impossible for the semantics to be used in the above task. __[4]__\n",
        "- Make a dataset for it __[2]__\n",
        "- Learn a classifier for it __[1]__\n",
        "- Do the analysis across layers __[3]__"
      ]
    },
    {
      "cell_type": "code",
      "source": [
        "import string\n",
        "import random\n",
        "\n",
        "def generate_random_word(length, start_letter):\n",
        "  return start_letter + ''.join(random.choice(string.ascii_lowercase) for _ in range(length))\n",
        "\n",
        "def create_pseudowords_dataset(num_samples_per_letter):\n",
        "    dataset = []\n",
        "\n",
        "    for i in range(26):\n",
        "        first_letter = chr(ord('a')+i)\n",
        "        for _ in range(num_samples_per_letter):\n",
        "          word_length = random.randint(3, 21)\n",
        "          word = generate_random_word(word_length, first_letter)\n",
        "          dataset.append((word, i))\n",
        "\n",
        "    random.shuffle(dataset)\n",
        "    return dataset\n",
        "\n",
        "pseudo_dataset = create_pseudowords_dataset(num_samples_per_letter=100)"
      ],
      "metadata": {
        "id": "ci3R-u2oEFLG"
      },
      "execution_count": 25,
      "outputs": []
    },
    {
      "cell_type": "code",
      "source": [
        "from sklearn.model_selection import train_test_split\n",
        "from sklearn.linear_model import LogisticRegression\n",
        "from sklearn.metrics import classification_report\n",
        "from sklearn.preprocessing import StandardScaler\n",
        "scaler = StandardScaler()\n",
        "\n",
        "# Split the dataset (consider stratified splitting for future experiments)\n",
        "X_train, X_test = train_test_split(pseudo_dataset, test_size=0.2, random_state=42)\n",
        "\n",
        "print(model.config.num_hidden_layers)\n",
        "accuracies = []\n",
        "recalls = []\n",
        "f1s = []\n",
        "precisions = []\n",
        "\n",
        "for layer_num in range(model.config.num_hidden_layers):  # Iterate through Roberta layers\n",
        "    # Obtain embeddings for the train and test sets\n",
        "    train_embeds = get_embeddings_all_layers(model, tokenizer, X_train, pool_func=lambda x, dim: np.mean(x, axis=dim), layer=layer_num)\n",
        "    test_embeds = get_embeddings_all_layers(model, tokenizer, X_test, pool_func=lambda x, dim: np.mean(x, axis=dim), layer=layer_num)\n",
        "\n",
        "    # concatenate the embeddings\n",
        "    train_embeds = np.concatenate(train_embeds, axis=0)\n",
        "    test_embeds = np.concatenate(test_embeds, axis=0)\n",
        "\n",
        "    train_embeds = scaler.fit_transform(train_embeds)\n",
        "    test_embeds = scaler.transform(test_embeds)\n",
        "\n",
        "    # Train the classifier\n",
        "    classifier = LogisticRegression(max_iter=1000)\n",
        "    classifier.fit(train_embeds, [X_train[i][1] for i in range(len(X_train))])\n",
        "\n",
        "    # Evaluate\n",
        "    print(f\"Layer {layer_num+1}:\")\n",
        "    print(classification_report([X_test[i][1] for i in range(len(X_test))], classifier.predict(test_embeds)))\n",
        "    report = classification_report([X_test[i][1] for i in range(len(X_test))], classifier.predict(test_embeds), output_dict=True)\n",
        "    accuracies.append(report[\"accuracy\"])\n",
        "    recalls.append(report['weighted avg']['recall'])\n",
        "    f1s.append(report['weighted avg']['f1-score'])\n",
        "    precisions.append(report['weighted avg']['precision'])"
      ],
      "metadata": {
        "colab": {
          "base_uri": "https://localhost:8080/"
        },
        "id": "m5zLyAbEQEWD",
        "outputId": "db5e20d8-d481-4839-c259-47b981b12b3b"
      },
      "execution_count": 27,
      "outputs": [
        {
          "output_type": "stream",
          "name": "stdout",
          "text": [
            "12\n",
            "Layer 1:\n",
            "              precision    recall  f1-score   support\n",
            "\n",
            "           0       0.21      0.28      0.24        18\n",
            "           1       0.24      0.25      0.24        20\n",
            "           2       0.18      0.23      0.20        13\n",
            "           3       0.38      0.38      0.38        16\n",
            "           4       0.26      0.28      0.27        18\n",
            "           5       0.13      0.09      0.11        23\n",
            "           6       0.20      0.25      0.22        20\n",
            "           7       0.18      0.14      0.15        22\n",
            "           8       0.11      0.12      0.12        25\n",
            "           9       0.16      0.13      0.14        23\n",
            "          10       0.18      0.16      0.17        19\n",
            "          11       0.10      0.10      0.10        21\n",
            "          12       0.06      0.04      0.05        23\n",
            "          13       0.24      0.26      0.25        19\n",
            "          14       0.18      0.10      0.13        20\n",
            "          15       0.37      0.47      0.41        15\n",
            "          16       0.11      0.12      0.11        16\n",
            "          17       0.22      0.32      0.26        19\n",
            "          18       0.29      0.30      0.29        20\n",
            "          19       0.36      0.24      0.29        21\n",
            "          20       0.21      0.25      0.23        24\n",
            "          21       0.21      0.15      0.17        27\n",
            "          22       0.10      0.16      0.12        19\n",
            "          23       0.10      0.12      0.11        17\n",
            "          24       0.17      0.16      0.16        19\n",
            "          25       0.28      0.22      0.24        23\n",
            "\n",
            "    accuracy                           0.20       520\n",
            "   macro avg       0.20      0.20      0.20       520\n",
            "weighted avg       0.20      0.20      0.19       520\n",
            "\n",
            "Layer 2:\n",
            "              precision    recall  f1-score   support\n",
            "\n",
            "           0       0.35      0.44      0.39        18\n",
            "           1       0.20      0.20      0.20        20\n",
            "           2       0.16      0.23      0.19        13\n",
            "           3       0.38      0.38      0.38        16\n",
            "           4       0.28      0.28      0.28        18\n",
            "           5       0.32      0.26      0.29        23\n",
            "           6       0.16      0.20      0.18        20\n",
            "           7       0.35      0.32      0.33        22\n",
            "           8       0.29      0.24      0.26        25\n",
            "           9       0.44      0.35      0.39        23\n",
            "          10       0.26      0.26      0.26        19\n",
            "          11       0.26      0.24      0.25        21\n",
            "          12       0.33      0.26      0.29        23\n",
            "          13       0.28      0.26      0.27        19\n",
            "          14       0.31      0.20      0.24        20\n",
            "          15       0.30      0.40      0.34        15\n",
            "          16       0.20      0.19      0.19        16\n",
            "          17       0.31      0.58      0.41        19\n",
            "          18       0.48      0.50      0.49        20\n",
            "          19       0.35      0.33      0.34        21\n",
            "          20       0.31      0.33      0.32        24\n",
            "          21       0.38      0.22      0.28        27\n",
            "          22       0.29      0.37      0.33        19\n",
            "          23       0.37      0.41      0.39        17\n",
            "          24       0.50      0.53      0.51        19\n",
            "          25       0.44      0.35      0.39        23\n",
            "\n",
            "    accuracy                           0.32       520\n",
            "   macro avg       0.32      0.32      0.31       520\n",
            "weighted avg       0.32      0.32      0.32       520\n",
            "\n",
            "Layer 3:\n",
            "              precision    recall  f1-score   support\n",
            "\n",
            "           0       0.52      0.67      0.59        18\n",
            "           1       0.28      0.25      0.26        20\n",
            "           2       0.29      0.38      0.33        13\n",
            "           3       0.33      0.44      0.38        16\n",
            "           4       0.38      0.44      0.41        18\n",
            "           5       0.50      0.30      0.38        23\n",
            "           6       0.35      0.40      0.37        20\n",
            "           7       0.55      0.55      0.55        22\n",
            "           8       0.60      0.48      0.53        25\n",
            "           9       0.72      0.57      0.63        23\n",
            "          10       0.62      0.42      0.50        19\n",
            "          11       0.38      0.43      0.40        21\n",
            "          12       0.52      0.57      0.54        23\n",
            "          13       0.36      0.26      0.30        19\n",
            "          14       0.43      0.45      0.44        20\n",
            "          15       0.64      0.47      0.54        15\n",
            "          16       0.53      0.50      0.52        16\n",
            "          17       0.45      0.74      0.56        19\n",
            "          18       0.54      0.35      0.42        20\n",
            "          19       0.36      0.38      0.37        21\n",
            "          20       0.60      0.62      0.61        24\n",
            "          21       0.64      0.59      0.62        27\n",
            "          22       0.62      0.68      0.65        19\n",
            "          23       0.48      0.59      0.53        17\n",
            "          24       0.72      0.68      0.70        19\n",
            "          25       0.67      0.70      0.68        23\n",
            "\n",
            "    accuracy                           0.50       520\n",
            "   macro avg       0.50      0.50      0.49       520\n",
            "weighted avg       0.51      0.50      0.50       520\n",
            "\n",
            "Layer 4:\n",
            "              precision    recall  f1-score   support\n",
            "\n",
            "           0       0.48      0.56      0.51        18\n",
            "           1       0.41      0.35      0.38        20\n",
            "           2       0.36      0.38      0.37        13\n",
            "           3       0.40      0.50      0.44        16\n",
            "           4       0.56      0.50      0.53        18\n",
            "           5       0.50      0.30      0.38        23\n",
            "           6       0.42      0.55      0.48        20\n",
            "           7       0.60      0.55      0.57        22\n",
            "           8       0.62      0.52      0.57        25\n",
            "           9       0.71      0.65      0.68        23\n",
            "          10       0.83      0.53      0.65        19\n",
            "          11       0.48      0.62      0.54        21\n",
            "          12       0.48      0.43      0.45        23\n",
            "          13       0.56      0.53      0.54        19\n",
            "          14       0.50      0.40      0.44        20\n",
            "          15       0.53      0.53      0.53        15\n",
            "          16       0.77      0.62      0.69        16\n",
            "          17       0.58      0.79      0.67        19\n",
            "          18       0.48      0.55      0.51        20\n",
            "          19       0.41      0.43      0.42        21\n",
            "          20       0.45      0.54      0.49        24\n",
            "          21       0.56      0.56      0.56        27\n",
            "          22       0.58      0.74      0.65        19\n",
            "          23       0.56      0.53      0.55        17\n",
            "          24       0.60      0.63      0.62        19\n",
            "          25       0.67      0.61      0.64        23\n",
            "\n",
            "    accuracy                           0.53       520\n",
            "   macro avg       0.54      0.53      0.53       520\n",
            "weighted avg       0.54      0.53      0.53       520\n",
            "\n",
            "Layer 5:\n",
            "              precision    recall  f1-score   support\n",
            "\n",
            "           0       0.50      0.39      0.44        18\n",
            "           1       0.32      0.30      0.31        20\n",
            "           2       0.14      0.23      0.17        13\n",
            "           3       0.45      0.56      0.50        16\n",
            "           4       0.41      0.50      0.45        18\n",
            "           5       0.45      0.43      0.44        23\n",
            "           6       0.44      0.55      0.49        20\n",
            "           7       0.44      0.50      0.47        22\n",
            "           8       0.52      0.44      0.48        25\n",
            "           9       0.65      0.57      0.60        23\n",
            "          10       0.80      0.42      0.55        19\n",
            "          11       0.38      0.43      0.40        21\n",
            "          12       0.55      0.48      0.51        23\n",
            "          13       0.35      0.42      0.38        19\n",
            "          14       0.47      0.40      0.43        20\n",
            "          15       0.38      0.33      0.36        15\n",
            "          16       0.67      0.50      0.57        16\n",
            "          17       0.48      0.68      0.57        19\n",
            "          18       0.54      0.35      0.42        20\n",
            "          19       0.43      0.43      0.43        21\n",
            "          20       0.40      0.42      0.41        24\n",
            "          21       0.61      0.41      0.49        27\n",
            "          22       0.62      0.79      0.70        19\n",
            "          23       0.53      0.59      0.56        17\n",
            "          24       0.50      0.68      0.58        19\n",
            "          25       0.78      0.61      0.68        23\n",
            "\n",
            "    accuracy                           0.48       520\n",
            "   macro avg       0.49      0.48      0.48       520\n",
            "weighted avg       0.50      0.48      0.48       520\n",
            "\n",
            "Layer 6:\n",
            "              precision    recall  f1-score   support\n",
            "\n",
            "           0       0.50      0.39      0.44        18\n",
            "           1       0.33      0.35      0.34        20\n",
            "           2       0.27      0.31      0.29        13\n",
            "           3       0.46      0.38      0.41        16\n",
            "           4       0.42      0.44      0.43        18\n",
            "           5       0.50      0.48      0.49        23\n",
            "           6       0.48      0.55      0.51        20\n",
            "           7       0.47      0.41      0.44        22\n",
            "           8       0.46      0.52      0.49        25\n",
            "           9       0.70      0.61      0.65        23\n",
            "          10       0.50      0.37      0.42        19\n",
            "          11       0.35      0.38      0.36        21\n",
            "          12       0.55      0.52      0.53        23\n",
            "          13       0.28      0.26      0.27        19\n",
            "          14       0.44      0.40      0.42        20\n",
            "          15       0.33      0.40      0.36        15\n",
            "          16       0.64      0.56      0.60        16\n",
            "          17       0.48      0.58      0.52        19\n",
            "          18       0.79      0.55      0.65        20\n",
            "          19       0.50      0.43      0.46        21\n",
            "          20       0.40      0.42      0.41        24\n",
            "          21       0.43      0.48      0.46        27\n",
            "          22       0.41      0.58      0.48        19\n",
            "          23       0.54      0.76      0.63        17\n",
            "          24       0.58      0.58      0.58        19\n",
            "          25       0.84      0.70      0.76        23\n",
            "\n",
            "    accuracy                           0.48       520\n",
            "   macro avg       0.49      0.48      0.48       520\n",
            "weighted avg       0.49      0.48      0.48       520\n",
            "\n",
            "Layer 7:\n",
            "              precision    recall  f1-score   support\n",
            "\n",
            "           0       0.44      0.44      0.44        18\n",
            "           1       0.38      0.40      0.39        20\n",
            "           2       0.32      0.46      0.37        13\n",
            "           3       0.31      0.31      0.31        16\n",
            "           4       0.47      0.50      0.49        18\n",
            "           5       0.43      0.39      0.41        23\n",
            "           6       0.39      0.35      0.37        20\n",
            "           7       0.53      0.41      0.46        22\n",
            "           8       0.56      0.56      0.56        25\n",
            "           9       0.67      0.70      0.68        23\n",
            "          10       0.82      0.47      0.60        19\n",
            "          11       0.41      0.43      0.42        21\n",
            "          12       0.45      0.43      0.44        23\n",
            "          13       0.37      0.37      0.37        19\n",
            "          14       0.35      0.40      0.37        20\n",
            "          15       0.58      0.47      0.52        15\n",
            "          16       0.62      0.62      0.62        16\n",
            "          17       0.48      0.74      0.58        19\n",
            "          18       0.59      0.50      0.54        20\n",
            "          19       0.50      0.43      0.46        21\n",
            "          20       0.35      0.38      0.36        24\n",
            "          21       0.58      0.41      0.48        27\n",
            "          22       0.42      0.58      0.49        19\n",
            "          23       0.48      0.65      0.55        17\n",
            "          24       0.56      0.53      0.54        19\n",
            "          25       0.71      0.65      0.68        23\n",
            "\n",
            "    accuracy                           0.48       520\n",
            "   macro avg       0.49      0.48      0.48       520\n",
            "weighted avg       0.50      0.48      0.48       520\n",
            "\n",
            "Layer 8:\n",
            "              precision    recall  f1-score   support\n",
            "\n",
            "           0       0.41      0.39      0.40        18\n",
            "           1       0.35      0.30      0.32        20\n",
            "           2       0.21      0.23      0.22        13\n",
            "           3       0.32      0.38      0.34        16\n",
            "           4       0.39      0.50      0.44        18\n",
            "           5       0.50      0.35      0.41        23\n",
            "           6       0.46      0.55      0.50        20\n",
            "           7       0.55      0.50      0.52        22\n",
            "           8       0.57      0.48      0.52        25\n",
            "           9       0.70      0.61      0.65        23\n",
            "          10       0.62      0.53      0.57        19\n",
            "          11       0.40      0.48      0.43        21\n",
            "          12       0.40      0.35      0.37        23\n",
            "          13       0.41      0.47      0.44        19\n",
            "          14       0.39      0.35      0.37        20\n",
            "          15       0.53      0.53      0.53        15\n",
            "          16       0.53      0.56      0.55        16\n",
            "          17       0.54      0.79      0.64        19\n",
            "          18       0.42      0.40      0.41        20\n",
            "          19       0.41      0.43      0.42        21\n",
            "          20       0.50      0.46      0.48        24\n",
            "          21       0.60      0.44      0.51        27\n",
            "          22       0.50      0.74      0.60        19\n",
            "          23       0.75      0.71      0.73        17\n",
            "          24       0.53      0.53      0.53        19\n",
            "          25       0.77      0.74      0.76        23\n",
            "\n",
            "    accuracy                           0.49       520\n",
            "   macro avg       0.49      0.49      0.49       520\n",
            "weighted avg       0.50      0.49      0.49       520\n",
            "\n",
            "Layer 9:\n",
            "              precision    recall  f1-score   support\n",
            "\n",
            "           0       0.47      0.44      0.46        18\n",
            "           1       0.26      0.35      0.30        20\n",
            "           2       0.20      0.23      0.21        13\n",
            "           3       0.41      0.44      0.42        16\n",
            "           4       0.44      0.44      0.44        18\n",
            "           5       0.47      0.39      0.43        23\n",
            "           6       0.52      0.60      0.56        20\n",
            "           7       0.70      0.64      0.67        22\n",
            "           8       0.48      0.48      0.48        25\n",
            "           9       0.58      0.48      0.52        23\n",
            "          10       0.53      0.42      0.47        19\n",
            "          11       0.47      0.33      0.39        21\n",
            "          12       0.45      0.39      0.42        23\n",
            "          13       0.44      0.42      0.43        19\n",
            "          14       0.45      0.45      0.45        20\n",
            "          15       0.53      0.60      0.56        15\n",
            "          16       0.41      0.44      0.42        16\n",
            "          17       0.44      0.63      0.52        19\n",
            "          18       0.47      0.40      0.43        20\n",
            "          19       0.45      0.48      0.47        21\n",
            "          20       0.50      0.50      0.50        24\n",
            "          21       0.65      0.56      0.60        27\n",
            "          22       0.52      0.74      0.61        19\n",
            "          23       0.62      0.59      0.61        17\n",
            "          24       0.48      0.53      0.50        19\n",
            "          25       0.76      0.70      0.73        23\n",
            "\n",
            "    accuracy                           0.49       520\n",
            "   macro avg       0.49      0.49      0.48       520\n",
            "weighted avg       0.50      0.49      0.49       520\n",
            "\n",
            "Layer 10:\n",
            "              precision    recall  f1-score   support\n",
            "\n",
            "           0       0.50      0.44      0.47        18\n",
            "           1       0.43      0.45      0.44        20\n",
            "           2       0.16      0.23      0.19        13\n",
            "           3       0.35      0.38      0.36        16\n",
            "           4       0.67      0.56      0.61        18\n",
            "           5       0.42      0.35      0.38        23\n",
            "           6       0.46      0.55      0.50        20\n",
            "           7       0.50      0.59      0.54        22\n",
            "           8       0.58      0.56      0.57        25\n",
            "           9       0.67      0.61      0.64        23\n",
            "          10       0.53      0.42      0.47        19\n",
            "          11       0.50      0.57      0.53        21\n",
            "          12       0.50      0.39      0.44        23\n",
            "          13       0.35      0.37      0.36        19\n",
            "          14       0.45      0.45      0.45        20\n",
            "          15       0.53      0.67      0.59        15\n",
            "          16       0.67      0.50      0.57        16\n",
            "          17       0.48      0.68      0.57        19\n",
            "          18       0.67      0.40      0.50        20\n",
            "          19       0.50      0.48      0.49        21\n",
            "          20       0.52      0.58      0.55        24\n",
            "          21       0.65      0.56      0.60        27\n",
            "          22       0.62      0.68      0.65        19\n",
            "          23       0.55      0.65      0.59        17\n",
            "          24       0.48      0.53      0.50        19\n",
            "          25       0.74      0.61      0.67        23\n",
            "\n",
            "    accuracy                           0.51       520\n",
            "   macro avg       0.52      0.51      0.51       520\n",
            "weighted avg       0.53      0.51      0.51       520\n",
            "\n",
            "Layer 11:\n",
            "              precision    recall  f1-score   support\n",
            "\n",
            "           0       0.47      0.50      0.49        18\n",
            "           1       0.46      0.55      0.50        20\n",
            "           2       0.35      0.46      0.40        13\n",
            "           3       0.39      0.44      0.41        16\n",
            "           4       0.61      0.61      0.61        18\n",
            "           5       0.53      0.43      0.48        23\n",
            "           6       0.45      0.50      0.48        20\n",
            "           7       0.59      0.59      0.59        22\n",
            "           8       0.61      0.44      0.51        25\n",
            "           9       0.67      0.70      0.68        23\n",
            "          10       0.75      0.47      0.58        19\n",
            "          11       0.61      0.67      0.64        21\n",
            "          12       0.56      0.43      0.49        23\n",
            "          13       0.44      0.42      0.43        19\n",
            "          14       0.55      0.55      0.55        20\n",
            "          15       0.55      0.80      0.65        15\n",
            "          16       0.82      0.56      0.67        16\n",
            "          17       0.62      0.79      0.70        19\n",
            "          18       0.57      0.40      0.47        20\n",
            "          19       0.52      0.52      0.52        21\n",
            "          20       0.54      0.62      0.58        24\n",
            "          21       0.70      0.59      0.64        27\n",
            "          22       0.58      0.74      0.65        19\n",
            "          23       0.61      0.82      0.70        17\n",
            "          24       0.63      0.63      0.63        19\n",
            "          25       0.79      0.65      0.71        23\n",
            "\n",
            "    accuracy                           0.57       520\n",
            "   macro avg       0.58      0.57      0.57       520\n",
            "weighted avg       0.58      0.57      0.57       520\n",
            "\n",
            "Layer 12:\n",
            "              precision    recall  f1-score   support\n",
            "\n",
            "           0       0.47      0.50      0.49        18\n",
            "           1       0.50      0.60      0.55        20\n",
            "           2       0.29      0.38      0.33        13\n",
            "           3       0.38      0.31      0.34        16\n",
            "           4       0.61      0.61      0.61        18\n",
            "           5       0.43      0.43      0.43        23\n",
            "           6       0.29      0.20      0.24        20\n",
            "           7       0.67      0.64      0.65        22\n",
            "           8       0.74      0.56      0.64        25\n",
            "           9       0.72      0.78      0.75        23\n",
            "          10       0.69      0.47      0.56        19\n",
            "          11       0.56      0.48      0.51        21\n",
            "          12       0.61      0.48      0.54        23\n",
            "          13       0.37      0.37      0.37        19\n",
            "          14       0.47      0.45      0.46        20\n",
            "          15       0.52      0.73      0.61        15\n",
            "          16       0.75      0.56      0.64        16\n",
            "          17       0.52      0.63      0.57        19\n",
            "          18       0.56      0.50      0.53        20\n",
            "          19       0.40      0.48      0.43        21\n",
            "          20       0.50      0.54      0.52        24\n",
            "          21       0.58      0.67      0.62        27\n",
            "          22       0.52      0.58      0.55        19\n",
            "          23       0.52      0.65      0.58        17\n",
            "          24       0.63      0.63      0.63        19\n",
            "          25       0.70      0.70      0.70        23\n",
            "\n",
            "    accuracy                           0.54       520\n",
            "   macro avg       0.54      0.54      0.53       520\n",
            "weighted avg       0.55      0.54      0.54       520\n",
            "\n"
          ]
        }
      ]
    },
    {
      "cell_type": "code",
      "source": [
        "import matplotlib.pyplot as plt\n",
        "layer_numbers = range(model.config.num_hidden_layers)\n",
        "plt.plot(layer_numbers, accuracies, marker='o')\n",
        "plt.xlabel('Layer Number')\n",
        "plt.ylabel('Accuracy')\n",
        "plt.title('Accuracies vs Layer Number')\n",
        "plt.grid(True)\n",
        "plt.show()"
      ],
      "metadata": {
        "colab": {
          "base_uri": "https://localhost:8080/",
          "height": 472
        },
        "id": "NBd4QBqPO5hL",
        "outputId": "94f03522-6916-4121-baf6-c527b4c32915"
      },
      "execution_count": 29,
      "outputs": [
        {
          "output_type": "display_data",
          "data": {
            "text/plain": [
              "<Figure size 640x480 with 1 Axes>"
            ],
            "image/png": "[encoded data removed]"
          },
          "metadata": {}
        }
      ]
    },
    {
      "cell_type": "code",
      "source": [
        "import matplotlib.pyplot as plt\n",
        "layer_numbers = range(model.config.num_hidden_layers)\n",
        "plt.plot(layer_numbers, recalls, marker='o')\n",
        "plt.xlabel('Layer Number')\n",
        "plt.ylabel('Recall')\n",
        "plt.title('Recall vs Layer Number')\n",
        "plt.grid(True)\n",
        "plt.show()"
      ],
      "metadata": {
        "colab": {
          "base_uri": "https://localhost:8080/",
          "height": 472
        },
        "id": "60NxZb_7QLBD",
        "outputId": "81884767-58b5-4f49-d986-266f834ba426"
      },
      "execution_count": 33,
      "outputs": [
        {
          "output_type": "display_data",
          "data": {
            "text/plain": [
              "<Figure size 640x480 with 1 Axes>"
            ],
            "image/png": "[encoded data removed]"
          },
          "metadata": {}
        }
      ]
    },
    {
      "cell_type": "code",
      "source": [
        "import matplotlib.pyplot as plt\n",
        "layer_numbers = range(model.config.num_hidden_layers)\n",
        "plt.plot(layer_numbers, precisions, marker='o')\n",
        "plt.xlabel('Layer Number')\n",
        "plt.ylabel('Precision')\n",
        "plt.title('Precision vs Layer Number')\n",
        "plt.grid(True)\n",
        "plt.show()"
      ],
      "metadata": {
        "colab": {
          "base_uri": "https://localhost:8080/",
          "height": 472
        },
        "id": "Uo7wYpjlQbly",
        "outputId": "c07b8d10-d16b-4422-9e63-739170cf9250"
      },
      "execution_count": 34,
      "outputs": [
        {
          "output_type": "display_data",
          "data": {
            "text/plain": [
              "<Figure size 640x480 with 1 Axes>"
            ],
            "image/png": "[encoded data removed]"
          },
          "metadata": {}
        }
      ]
    },
    {
      "cell_type": "code",
      "source": [
        "import matplotlib.pyplot as plt\n",
        "layer_numbers = range(model.config.num_hidden_layers)\n",
        "plt.plot(layer_numbers, f1s, marker='o')\n",
        "plt.xlabel('Layer Number')\n",
        "plt.ylabel('f1-score')\n",
        "plt.title('f1-score vs Layer Number')\n",
        "plt.grid(True)\n",
        "plt.show()"
      ],
      "metadata": {
        "colab": {
          "base_uri": "https://localhost:8080/",
          "height": 472
        },
        "id": "EgmMrR5VQ_vo",
        "outputId": "395f8f4b-ee5f-4221-9884-2dda61f8dbda"
      },
      "execution_count": 36,
      "outputs": [
        {
          "output_type": "display_data",
          "data": {
            "text/plain": [
              "<Figure size 640x480 with 1 Axes>"
            ],
            "image/png": "[encoded data removed]"
          },
          "metadata": {}
        }
      ]
    },
    {
      "cell_type": "markdown",
      "metadata": {
        "id": "fkjlriEe-ZLK"
      },
      "source": [
        "# Custom Section\n",
        "\n",
        "## Make a Hypothesis [5]\n",
        "\n",
        "Based on the experiments from the previous section, come up with an intuition of how doing Language Modelling could teach the model about those aspects of spelling?\n",
        "\n",
        "## Design an experiment [5]\n",
        "\n",
        "Design your own probing experiment to check for an interesting subtask using spelling.\n",
        "\n",
        "## Code up using the guidelines from the previous cells [8]\n",
        "\n",
        "## Do layer-wise analysis on your task [4]\n",
        "\n",
        "Do probes for particular layers do better than others?\n",
        "\n",
        "Make a layer-wise plot\n",
        "\n",
        "\n",
        "## Bonus: Design a control task for your experiment [10]\n",
        "\n",
        "Reference: https://arxiv.org/abs/1909.03368\n",
        "\n",
        "\n"
      ]
    },
    {
      "cell_type": "markdown",
      "source": [
        "# Report [10]\n",
        "\n",
        "Make a report summarizing your findings and claims"
      ],
      "metadata": {
        "id": "KOQx2YLWKaEi"
      }
    },
    {
      "cell_type": "code",
      "source": [
        "import random\n",
        "from collections import defaultdict\n",
        "def syllable_count(word):\n",
        "  word = word.lower()\n",
        "  count = 0\n",
        "  vowels = \"aeiouy\"\n",
        "  if word[0] in vowels:\n",
        "    count += 1\n",
        "  for index in range(1, len(word)):\n",
        "    if word[index] in vowels and word[index - 1] not in vowels:\n",
        "      count += 1\n",
        "  if word.endswith(\"e\"):\n",
        "    count -= 1\n",
        "  if count == 0:\n",
        "    count += 1\n",
        "  return count\n",
        "\n",
        "def create_syllable_dataset(words, num_samples_per_letter):\n",
        "    dataset = []\n",
        "    letter_counts = defaultdict(int)\n",
        "\n",
        "    for word in words:\n",
        "        first_letter = word[0].lower()\n",
        "        if letter_counts[first_letter] < num_samples_per_letter:\n",
        "            letter_counts[first_letter] += 1\n",
        "            dataset.append((word, syllable_count(word)))\n",
        "\n",
        "    random.shuffle(dataset)\n",
        "    return dataset\n",
        "\n",
        "dataset = create_syllable_dataset(words_list, num_samples_per_letter=100)"
      ],
      "metadata": {
        "id": "7JEimDCbcQQ2"
      },
      "execution_count": 21,
      "outputs": []
    },
    {
      "cell_type": "code",
      "source": [
        "from sklearn.model_selection import train_test_split\n",
        "from sklearn.linear_model import LogisticRegression\n",
        "from sklearn.metrics import classification_report\n",
        "from sklearn.preprocessing import StandardScaler\n",
        "scaler = StandardScaler()\n",
        "\n",
        "# Split the dataset (consider stratified splitting for future experiments)\n",
        "X_train, X_test = train_test_split(dataset, test_size=0.2, random_state=42)\n",
        "\n",
        "print(model.config.num_hidden_layers)\n",
        "accuracies = []\n",
        "recalls = []\n",
        "f1s = []\n",
        "precisions = []\n",
        "\n",
        "for layer_num in range(model.config.num_hidden_layers):  # Iterate through Roberta layers\n",
        "    # Obtain embeddings for the train and test sets\n",
        "    train_embeds = get_embeddings_all_layers(model, tokenizer, X_train, pool_func=lambda x, dim: np.mean(x, axis=dim), layer=layer_num)\n",
        "    test_embeds = get_embeddings_all_layers(model, tokenizer, X_test, pool_func=lambda x, dim: np.mean(x, axis=dim), layer=layer_num)\n",
        "\n",
        "    # concatenate the embeddings\n",
        "    train_embeds = np.concatenate(train_embeds, axis=0)\n",
        "    test_embeds = np.concatenate(test_embeds, axis=0)\n",
        "\n",
        "    train_embeds = scaler.fit_transform(train_embeds)\n",
        "    test_embeds = scaler.transform(test_embeds)\n",
        "\n",
        "    # Train the classifier\n",
        "    classifier = LogisticRegression(max_iter=1000)\n",
        "    classifier.fit(train_embeds, [X_train[i][1] for i in range(len(X_train))])\n",
        "\n",
        "    # Evaluate\n",
        "    print(f\"Layer {layer_num+1}:\")\n",
        "    print(classification_report([X_test[i][1] for i in range(len(X_test))], classifier.predict(test_embeds)))\n",
        "    report = classification_report([X_test[i][1] for i in range(len(X_test))], classifier.predict(test_embeds), output_dict=True)\n",
        "    accuracies.append(report[\"accuracy\"])\n",
        "    recalls.append(report['weighted avg']['recall'])\n",
        "    f1s.append(report['weighted avg']['f1-score'])\n",
        "    precisions.append(report['weighted avg']['precision'])"
      ],
      "metadata": {
        "colab": {
          "base_uri": "https://localhost:8080/"
        },
        "id": "rDnypG_5moE1",
        "outputId": "60a3000c-8641-4efb-8613-237ecc2f2bd5"
      },
      "execution_count": 23,
      "outputs": [
        {
          "output_type": "stream",
          "name": "stdout",
          "text": [
            "12\n",
            "Layer 1:\n",
            "              precision    recall  f1-score   support\n",
            "\n",
            "           1       0.82      0.81      0.82        75\n",
            "           2       0.79      0.82      0.80       164\n",
            "           3       0.76      0.76      0.76       165\n",
            "           4       0.57      0.63      0.60        79\n",
            "           5       0.50      0.32      0.39        28\n",
            "           6       0.67      0.25      0.36         8\n",
            "           7       0.00      0.00      0.00         1\n",
            "\n",
            "    accuracy                           0.73       520\n",
            "   macro avg       0.59      0.51      0.53       520\n",
            "weighted avg       0.73      0.73      0.73       520\n",
            "\n",
            "Layer 2:\n",
            "              precision    recall  f1-score   support\n",
            "\n",
            "           1       0.85      0.83      0.84        75\n",
            "           2       0.80      0.82      0.81       164\n",
            "           3       0.71      0.75      0.73       165\n",
            "           4       0.49      0.53      0.51        79\n",
            "           5       0.56      0.36      0.43        28\n",
            "           6       1.00      0.12      0.22         8\n",
            "           7       0.00      0.00      0.00         1\n",
            "\n",
            "    accuracy                           0.72       520\n",
            "   macro avg       0.63      0.49      0.51       520\n",
            "weighted avg       0.72      0.72      0.71       520\n",
            "\n"
          ]
        },
        {
          "output_type": "stream",
          "name": "stderr",
          "text": [
            "/usr/local/lib/python3.10/dist-packages/sklearn/linear_model/_logistic.py:458: ConvergenceWarning: lbfgs failed to converge (status=1):\n",
            "STOP: TOTAL NO. of ITERATIONS REACHED LIMIT.\n",
            "\n",
            "Increase the number of iterations (max_iter) or scale the data as shown in:\n",
            "    https://scikit-learn.org/stable/modules/preprocessing.html\n",
            "Please also refer to the documentation for alternative solver options:\n",
            "    https://scikit-learn.org/stable/modules/linear_model.html#logistic-regression\n",
            "  n_iter_i = _check_optimize_result(\n"
          ]
        },
        {
          "output_type": "stream",
          "name": "stdout",
          "text": [
            "Layer 3:\n",
            "              precision    recall  f1-score   support\n",
            "\n",
            "           1       0.88      0.81      0.85        75\n",
            "           2       0.81      0.84      0.83       164\n",
            "           3       0.74      0.81      0.77       165\n",
            "           4       0.55      0.56      0.55        79\n",
            "           5       0.41      0.25      0.31        28\n",
            "           6       0.67      0.25      0.36         8\n",
            "           7       0.00      0.00      0.00         1\n",
            "\n",
            "    accuracy                           0.74       520\n",
            "   macro avg       0.58      0.50      0.52       520\n",
            "weighted avg       0.73      0.74      0.73       520\n",
            "\n"
          ]
        },
        {
          "output_type": "stream",
          "name": "stderr",
          "text": [
            "/usr/local/lib/python3.10/dist-packages/sklearn/linear_model/_logistic.py:458: ConvergenceWarning: lbfgs failed to converge (status=1):\n",
            "STOP: TOTAL NO. of ITERATIONS REACHED LIMIT.\n",
            "\n",
            "Increase the number of iterations (max_iter) or scale the data as shown in:\n",
            "    https://scikit-learn.org/stable/modules/preprocessing.html\n",
            "Please also refer to the documentation for alternative solver options:\n",
            "    https://scikit-learn.org/stable/modules/linear_model.html#logistic-regression\n",
            "  n_iter_i = _check_optimize_result(\n"
          ]
        },
        {
          "output_type": "stream",
          "name": "stdout",
          "text": [
            "Layer 4:\n",
            "              precision    recall  f1-score   support\n",
            "\n",
            "           1       0.93      0.83      0.87        75\n",
            "           2       0.83      0.79      0.81       164\n",
            "           3       0.72      0.83      0.77       165\n",
            "           4       0.61      0.62      0.62        79\n",
            "           5       0.55      0.39      0.46        28\n",
            "           6       0.40      0.25      0.31         8\n",
            "           7       0.00      0.00      0.00         1\n",
            "\n",
            "    accuracy                           0.75       520\n",
            "   macro avg       0.58      0.53      0.55       520\n",
            "weighted avg       0.75      0.75      0.75       520\n",
            "\n"
          ]
        },
        {
          "output_type": "stream",
          "name": "stderr",
          "text": [
            "/usr/local/lib/python3.10/dist-packages/sklearn/linear_model/_logistic.py:458: ConvergenceWarning: lbfgs failed to converge (status=1):\n",
            "STOP: TOTAL NO. of ITERATIONS REACHED LIMIT.\n",
            "\n",
            "Increase the number of iterations (max_iter) or scale the data as shown in:\n",
            "    https://scikit-learn.org/stable/modules/preprocessing.html\n",
            "Please also refer to the documentation for alternative solver options:\n",
            "    https://scikit-learn.org/stable/modules/linear_model.html#logistic-regression\n",
            "  n_iter_i = _check_optimize_result(\n"
          ]
        },
        {
          "output_type": "stream",
          "name": "stdout",
          "text": [
            "Layer 5:\n",
            "              precision    recall  f1-score   support\n",
            "\n",
            "           1       0.86      0.81      0.84        75\n",
            "           2       0.81      0.80      0.81       164\n",
            "           3       0.75      0.80      0.77       165\n",
            "           4       0.55      0.56      0.55        79\n",
            "           5       0.43      0.36      0.39        28\n",
            "           6       0.40      0.25      0.31         8\n",
            "           7       0.00      0.00      0.00         1\n",
            "\n",
            "    accuracy                           0.73       520\n",
            "   macro avg       0.54      0.51      0.52       520\n",
            "weighted avg       0.73      0.73      0.73       520\n",
            "\n"
          ]
        },
        {
          "output_type": "stream",
          "name": "stderr",
          "text": [
            "/usr/local/lib/python3.10/dist-packages/sklearn/linear_model/_logistic.py:458: ConvergenceWarning: lbfgs failed to converge (status=1):\n",
            "STOP: TOTAL NO. of ITERATIONS REACHED LIMIT.\n",
            "\n",
            "Increase the number of iterations (max_iter) or scale the data as shown in:\n",
            "    https://scikit-learn.org/stable/modules/preprocessing.html\n",
            "Please also refer to the documentation for alternative solver options:\n",
            "    https://scikit-learn.org/stable/modules/linear_model.html#logistic-regression\n",
            "  n_iter_i = _check_optimize_result(\n"
          ]
        },
        {
          "output_type": "stream",
          "name": "stdout",
          "text": [
            "Layer 6:\n",
            "              precision    recall  f1-score   support\n",
            "\n",
            "           1       0.79      0.77      0.78        75\n",
            "           2       0.82      0.79      0.80       164\n",
            "           3       0.77      0.82      0.79       165\n",
            "           4       0.61      0.61      0.61        79\n",
            "           5       0.45      0.46      0.46        28\n",
            "           6       0.50      0.25      0.33         8\n",
            "           7       0.00      0.00      0.00         1\n",
            "\n",
            "    accuracy                           0.74       520\n",
            "   macro avg       0.56      0.53      0.54       520\n",
            "weighted avg       0.74      0.74      0.74       520\n",
            "\n"
          ]
        },
        {
          "output_type": "stream",
          "name": "stderr",
          "text": [
            "/usr/local/lib/python3.10/dist-packages/sklearn/linear_model/_logistic.py:458: ConvergenceWarning: lbfgs failed to converge (status=1):\n",
            "STOP: TOTAL NO. of ITERATIONS REACHED LIMIT.\n",
            "\n",
            "Increase the number of iterations (max_iter) or scale the data as shown in:\n",
            "    https://scikit-learn.org/stable/modules/preprocessing.html\n",
            "Please also refer to the documentation for alternative solver options:\n",
            "    https://scikit-learn.org/stable/modules/linear_model.html#logistic-regression\n",
            "  n_iter_i = _check_optimize_result(\n",
            "/usr/local/lib/python3.10/dist-packages/sklearn/metrics/_classification.py:1344: UndefinedMetricWarning: Precision and F-score are ill-defined and being set to 0.0 in labels with no predicted samples. Use `zero_division` parameter to control this behavior.\n",
            "  _warn_prf(average, modifier, msg_start, len(result))\n",
            "/usr/local/lib/python3.10/dist-packages/sklearn/metrics/_classification.py:1344: UndefinedMetricWarning: Precision and F-score are ill-defined and being set to 0.0 in labels with no predicted samples. Use `zero_division` parameter to control this behavior.\n",
            "  _warn_prf(average, modifier, msg_start, len(result))\n",
            "/usr/local/lib/python3.10/dist-packages/sklearn/metrics/_classification.py:1344: UndefinedMetricWarning: Precision and F-score are ill-defined and being set to 0.0 in labels with no predicted samples. Use `zero_division` parameter to control this behavior.\n",
            "  _warn_prf(average, modifier, msg_start, len(result))\n",
            "/usr/local/lib/python3.10/dist-packages/sklearn/metrics/_classification.py:1344: UndefinedMetricWarning: Precision and F-score are ill-defined and being set to 0.0 in labels with no predicted samples. Use `zero_division` parameter to control this behavior.\n",
            "  _warn_prf(average, modifier, msg_start, len(result))\n",
            "/usr/local/lib/python3.10/dist-packages/sklearn/metrics/_classification.py:1344: UndefinedMetricWarning: Precision and F-score are ill-defined and being set to 0.0 in labels with no predicted samples. Use `zero_division` parameter to control this behavior.\n",
            "  _warn_prf(average, modifier, msg_start, len(result))\n",
            "/usr/local/lib/python3.10/dist-packages/sklearn/metrics/_classification.py:1344: UndefinedMetricWarning: Precision and F-score are ill-defined and being set to 0.0 in labels with no predicted samples. Use `zero_division` parameter to control this behavior.\n",
            "  _warn_prf(average, modifier, msg_start, len(result))\n"
          ]
        },
        {
          "output_type": "stream",
          "name": "stdout",
          "text": [
            "Layer 7:\n",
            "              precision    recall  f1-score   support\n",
            "\n",
            "           1       0.88      0.81      0.85        75\n",
            "           2       0.79      0.84      0.81       164\n",
            "           3       0.76      0.79      0.77       165\n",
            "           4       0.63      0.56      0.59        79\n",
            "           5       0.42      0.50      0.46        28\n",
            "           6       0.33      0.12      0.18         8\n",
            "           7       0.00      0.00      0.00         1\n",
            "\n",
            "    accuracy                           0.74       520\n",
            "   macro avg       0.55      0.52      0.52       520\n",
            "weighted avg       0.74      0.74      0.74       520\n",
            "\n"
          ]
        },
        {
          "output_type": "stream",
          "name": "stderr",
          "text": [
            "/usr/local/lib/python3.10/dist-packages/sklearn/linear_model/_logistic.py:458: ConvergenceWarning: lbfgs failed to converge (status=1):\n",
            "STOP: TOTAL NO. of ITERATIONS REACHED LIMIT.\n",
            "\n",
            "Increase the number of iterations (max_iter) or scale the data as shown in:\n",
            "    https://scikit-learn.org/stable/modules/preprocessing.html\n",
            "Please also refer to the documentation for alternative solver options:\n",
            "    https://scikit-learn.org/stable/modules/linear_model.html#logistic-regression\n",
            "  n_iter_i = _check_optimize_result(\n",
            "/usr/local/lib/python3.10/dist-packages/sklearn/metrics/_classification.py:1344: UndefinedMetricWarning: Precision and F-score are ill-defined and being set to 0.0 in labels with no predicted samples. Use `zero_division` parameter to control this behavior.\n",
            "  _warn_prf(average, modifier, msg_start, len(result))\n",
            "/usr/local/lib/python3.10/dist-packages/sklearn/metrics/_classification.py:1344: UndefinedMetricWarning: Precision and F-score are ill-defined and being set to 0.0 in labels with no predicted samples. Use `zero_division` parameter to control this behavior.\n",
            "  _warn_prf(average, modifier, msg_start, len(result))\n",
            "/usr/local/lib/python3.10/dist-packages/sklearn/metrics/_classification.py:1344: UndefinedMetricWarning: Precision and F-score are ill-defined and being set to 0.0 in labels with no predicted samples. Use `zero_division` parameter to control this behavior.\n",
            "  _warn_prf(average, modifier, msg_start, len(result))\n",
            "/usr/local/lib/python3.10/dist-packages/sklearn/metrics/_classification.py:1344: UndefinedMetricWarning: Precision and F-score are ill-defined and being set to 0.0 in labels with no predicted samples. Use `zero_division` parameter to control this behavior.\n",
            "  _warn_prf(average, modifier, msg_start, len(result))\n",
            "/usr/local/lib/python3.10/dist-packages/sklearn/metrics/_classification.py:1344: UndefinedMetricWarning: Precision and F-score are ill-defined and being set to 0.0 in labels with no predicted samples. Use `zero_division` parameter to control this behavior.\n",
            "  _warn_prf(average, modifier, msg_start, len(result))\n",
            "/usr/local/lib/python3.10/dist-packages/sklearn/metrics/_classification.py:1344: UndefinedMetricWarning: Precision and F-score are ill-defined and being set to 0.0 in labels with no predicted samples. Use `zero_division` parameter to control this behavior.\n",
            "  _warn_prf(average, modifier, msg_start, len(result))\n"
          ]
        },
        {
          "output_type": "stream",
          "name": "stdout",
          "text": [
            "Layer 8:\n",
            "              precision    recall  f1-score   support\n",
            "\n",
            "           1       0.90      0.75      0.82        75\n",
            "           2       0.74      0.86      0.80       164\n",
            "           3       0.74      0.73      0.73       165\n",
            "           4       0.61      0.54      0.58        79\n",
            "           5       0.41      0.43      0.42        28\n",
            "           6       0.50      0.38      0.43         8\n",
            "           7       0.00      0.00      0.00         1\n",
            "\n",
            "    accuracy                           0.72       520\n",
            "   macro avg       0.56      0.53      0.54       520\n",
            "weighted avg       0.72      0.72      0.72       520\n",
            "\n"
          ]
        },
        {
          "output_type": "stream",
          "name": "stderr",
          "text": [
            "/usr/local/lib/python3.10/dist-packages/sklearn/linear_model/_logistic.py:458: ConvergenceWarning: lbfgs failed to converge (status=1):\n",
            "STOP: TOTAL NO. of ITERATIONS REACHED LIMIT.\n",
            "\n",
            "Increase the number of iterations (max_iter) or scale the data as shown in:\n",
            "    https://scikit-learn.org/stable/modules/preprocessing.html\n",
            "Please also refer to the documentation for alternative solver options:\n",
            "    https://scikit-learn.org/stable/modules/linear_model.html#logistic-regression\n",
            "  n_iter_i = _check_optimize_result(\n",
            "/usr/local/lib/python3.10/dist-packages/sklearn/metrics/_classification.py:1344: UndefinedMetricWarning: Precision and F-score are ill-defined and being set to 0.0 in labels with no predicted samples. Use `zero_division` parameter to control this behavior.\n",
            "  _warn_prf(average, modifier, msg_start, len(result))\n",
            "/usr/local/lib/python3.10/dist-packages/sklearn/metrics/_classification.py:1344: UndefinedMetricWarning: Precision and F-score are ill-defined and being set to 0.0 in labels with no predicted samples. Use `zero_division` parameter to control this behavior.\n",
            "  _warn_prf(average, modifier, msg_start, len(result))\n",
            "/usr/local/lib/python3.10/dist-packages/sklearn/metrics/_classification.py:1344: UndefinedMetricWarning: Precision and F-score are ill-defined and being set to 0.0 in labels with no predicted samples. Use `zero_division` parameter to control this behavior.\n",
            "  _warn_prf(average, modifier, msg_start, len(result))\n",
            "/usr/local/lib/python3.10/dist-packages/sklearn/metrics/_classification.py:1344: UndefinedMetricWarning: Precision and F-score are ill-defined and being set to 0.0 in labels with no predicted samples. Use `zero_division` parameter to control this behavior.\n",
            "  _warn_prf(average, modifier, msg_start, len(result))\n",
            "/usr/local/lib/python3.10/dist-packages/sklearn/metrics/_classification.py:1344: UndefinedMetricWarning: Precision and F-score are ill-defined and being set to 0.0 in labels with no predicted samples. Use `zero_division` parameter to control this behavior.\n",
            "  _warn_prf(average, modifier, msg_start, len(result))\n",
            "/usr/local/lib/python3.10/dist-packages/sklearn/metrics/_classification.py:1344: UndefinedMetricWarning: Precision and F-score are ill-defined and being set to 0.0 in labels with no predicted samples. Use `zero_division` parameter to control this behavior.\n",
            "  _warn_prf(average, modifier, msg_start, len(result))\n"
          ]
        },
        {
          "output_type": "stream",
          "name": "stdout",
          "text": [
            "Layer 9:\n",
            "              precision    recall  f1-score   support\n",
            "\n",
            "           1       0.87      0.81      0.84        75\n",
            "           2       0.79      0.80      0.80       164\n",
            "           3       0.69      0.73      0.71       165\n",
            "           4       0.53      0.53      0.53        79\n",
            "           5       0.40      0.29      0.33        28\n",
            "           6       0.43      0.38      0.40         8\n",
            "           7       0.00      0.00      0.00         1\n",
            "\n",
            "    accuracy                           0.71       520\n",
            "   macro avg       0.53      0.51      0.52       520\n",
            "weighted avg       0.70      0.71      0.70       520\n",
            "\n"
          ]
        },
        {
          "output_type": "stream",
          "name": "stderr",
          "text": [
            "/usr/local/lib/python3.10/dist-packages/sklearn/linear_model/_logistic.py:458: ConvergenceWarning: lbfgs failed to converge (status=1):\n",
            "STOP: TOTAL NO. of ITERATIONS REACHED LIMIT.\n",
            "\n",
            "Increase the number of iterations (max_iter) or scale the data as shown in:\n",
            "    https://scikit-learn.org/stable/modules/preprocessing.html\n",
            "Please also refer to the documentation for alternative solver options:\n",
            "    https://scikit-learn.org/stable/modules/linear_model.html#logistic-regression\n",
            "  n_iter_i = _check_optimize_result(\n",
            "/usr/local/lib/python3.10/dist-packages/sklearn/metrics/_classification.py:1344: UndefinedMetricWarning: Precision and F-score are ill-defined and being set to 0.0 in labels with no predicted samples. Use `zero_division` parameter to control this behavior.\n",
            "  _warn_prf(average, modifier, msg_start, len(result))\n",
            "/usr/local/lib/python3.10/dist-packages/sklearn/metrics/_classification.py:1344: UndefinedMetricWarning: Precision and F-score are ill-defined and being set to 0.0 in labels with no predicted samples. Use `zero_division` parameter to control this behavior.\n",
            "  _warn_prf(average, modifier, msg_start, len(result))\n",
            "/usr/local/lib/python3.10/dist-packages/sklearn/metrics/_classification.py:1344: UndefinedMetricWarning: Precision and F-score are ill-defined and being set to 0.0 in labels with no predicted samples. Use `zero_division` parameter to control this behavior.\n",
            "  _warn_prf(average, modifier, msg_start, len(result))\n",
            "/usr/local/lib/python3.10/dist-packages/sklearn/metrics/_classification.py:1344: UndefinedMetricWarning: Precision and F-score are ill-defined and being set to 0.0 in labels with no predicted samples. Use `zero_division` parameter to control this behavior.\n",
            "  _warn_prf(average, modifier, msg_start, len(result))\n",
            "/usr/local/lib/python3.10/dist-packages/sklearn/metrics/_classification.py:1344: UndefinedMetricWarning: Precision and F-score are ill-defined and being set to 0.0 in labels with no predicted samples. Use `zero_division` parameter to control this behavior.\n",
            "  _warn_prf(average, modifier, msg_start, len(result))\n",
            "/usr/local/lib/python3.10/dist-packages/sklearn/metrics/_classification.py:1344: UndefinedMetricWarning: Precision and F-score are ill-defined and being set to 0.0 in labels with no predicted samples. Use `zero_division` parameter to control this behavior.\n",
            "  _warn_prf(average, modifier, msg_start, len(result))\n"
          ]
        },
        {
          "output_type": "stream",
          "name": "stdout",
          "text": [
            "Layer 10:\n",
            "              precision    recall  f1-score   support\n",
            "\n",
            "           1       0.89      0.79      0.84        75\n",
            "           2       0.80      0.80      0.80       164\n",
            "           3       0.66      0.74      0.70       165\n",
            "           4       0.49      0.49      0.49        79\n",
            "           5       0.43      0.36      0.39        28\n",
            "           6       0.67      0.25      0.36         8\n",
            "           7       0.00      0.00      0.00         1\n",
            "\n",
            "    accuracy                           0.70       520\n",
            "   macro avg       0.56      0.49      0.51       520\n",
            "weighted avg       0.70      0.70      0.70       520\n",
            "\n"
          ]
        },
        {
          "output_type": "stream",
          "name": "stderr",
          "text": [
            "/usr/local/lib/python3.10/dist-packages/sklearn/linear_model/_logistic.py:458: ConvergenceWarning: lbfgs failed to converge (status=1):\n",
            "STOP: TOTAL NO. of ITERATIONS REACHED LIMIT.\n",
            "\n",
            "Increase the number of iterations (max_iter) or scale the data as shown in:\n",
            "    https://scikit-learn.org/stable/modules/preprocessing.html\n",
            "Please also refer to the documentation for alternative solver options:\n",
            "    https://scikit-learn.org/stable/modules/linear_model.html#logistic-regression\n",
            "  n_iter_i = _check_optimize_result(\n",
            "/usr/local/lib/python3.10/dist-packages/sklearn/metrics/_classification.py:1344: UndefinedMetricWarning: Precision and F-score are ill-defined and being set to 0.0 in labels with no predicted samples. Use `zero_division` parameter to control this behavior.\n",
            "  _warn_prf(average, modifier, msg_start, len(result))\n",
            "/usr/local/lib/python3.10/dist-packages/sklearn/metrics/_classification.py:1344: UndefinedMetricWarning: Precision and F-score are ill-defined and being set to 0.0 in labels with no predicted samples. Use `zero_division` parameter to control this behavior.\n",
            "  _warn_prf(average, modifier, msg_start, len(result))\n",
            "/usr/local/lib/python3.10/dist-packages/sklearn/metrics/_classification.py:1344: UndefinedMetricWarning: Precision and F-score are ill-defined and being set to 0.0 in labels with no predicted samples. Use `zero_division` parameter to control this behavior.\n",
            "  _warn_prf(average, modifier, msg_start, len(result))\n",
            "/usr/local/lib/python3.10/dist-packages/sklearn/metrics/_classification.py:1344: UndefinedMetricWarning: Precision and F-score are ill-defined and being set to 0.0 in labels with no predicted samples. Use `zero_division` parameter to control this behavior.\n",
            "  _warn_prf(average, modifier, msg_start, len(result))\n",
            "/usr/local/lib/python3.10/dist-packages/sklearn/metrics/_classification.py:1344: UndefinedMetricWarning: Precision and F-score are ill-defined and being set to 0.0 in labels with no predicted samples. Use `zero_division` parameter to control this behavior.\n",
            "  _warn_prf(average, modifier, msg_start, len(result))\n",
            "/usr/local/lib/python3.10/dist-packages/sklearn/metrics/_classification.py:1344: UndefinedMetricWarning: Precision and F-score are ill-defined and being set to 0.0 in labels with no predicted samples. Use `zero_division` parameter to control this behavior.\n",
            "  _warn_prf(average, modifier, msg_start, len(result))\n"
          ]
        },
        {
          "output_type": "stream",
          "name": "stdout",
          "text": [
            "Layer 11:\n",
            "              precision    recall  f1-score   support\n",
            "\n",
            "           1       0.84      0.76      0.80        75\n",
            "           2       0.75      0.80      0.78       164\n",
            "           3       0.68      0.71      0.69       165\n",
            "           4       0.53      0.49      0.51        79\n",
            "           5       0.42      0.39      0.41        28\n",
            "           6       0.50      0.25      0.33         8\n",
            "           7       0.00      0.00      0.00         1\n",
            "\n",
            "    accuracy                           0.69       520\n",
            "   macro avg       0.53      0.49      0.50       520\n",
            "weighted avg       0.68      0.69      0.68       520\n",
            "\n",
            "Layer 12:\n",
            "              precision    recall  f1-score   support\n",
            "\n",
            "           1       0.92      0.79      0.85        75\n",
            "           2       0.77      0.81      0.79       164\n",
            "           3       0.67      0.70      0.68       165\n",
            "           4       0.47      0.49      0.48        79\n",
            "           5       0.43      0.36      0.39        28\n",
            "           6       0.40      0.25      0.31         8\n",
            "           7       0.00      0.00      0.00         1\n",
            "\n",
            "    accuracy                           0.69       520\n",
            "   macro avg       0.52      0.49      0.50       520\n",
            "weighted avg       0.69      0.69      0.69       520\n",
            "\n"
          ]
        },
        {
          "output_type": "stream",
          "name": "stderr",
          "text": [
            "/usr/local/lib/python3.10/dist-packages/sklearn/linear_model/_logistic.py:458: ConvergenceWarning: lbfgs failed to converge (status=1):\n",
            "STOP: TOTAL NO. of ITERATIONS REACHED LIMIT.\n",
            "\n",
            "Increase the number of iterations (max_iter) or scale the data as shown in:\n",
            "    https://scikit-learn.org/stable/modules/preprocessing.html\n",
            "Please also refer to the documentation for alternative solver options:\n",
            "    https://scikit-learn.org/stable/modules/linear_model.html#logistic-regression\n",
            "  n_iter_i = _check_optimize_result(\n"
          ]
        }
      ]
    },
    {
      "cell_type": "code",
      "source": [
        "import matplotlib.pyplot as plt\n",
        "layer_numbers = range(model.config.num_hidden_layers)\n",
        "plt.plot(layer_numbers, accuracies, marker='o')\n",
        "plt.xlabel('Layer Number')\n",
        "plt.ylabel('Accuracy')\n",
        "plt.title('Accuracies vs Layer Number')\n",
        "plt.grid(True)\n",
        "plt.show()"
      ],
      "metadata": {
        "colab": {
          "base_uri": "https://localhost:8080/",
          "height": 472
        },
        "id": "UQxtvTANmO8x",
        "outputId": "de5a6145-482e-4a60-a246-10fd76272f27"
      },
      "execution_count": 24,
      "outputs": [
        {
          "output_type": "display_data",
          "data": {
            "text/plain": [
              "<Figure size 640x480 with 1 Axes>"
            ],
            "image/png": "[encoded data removed]"
          },
          "metadata": {}
        }
      ]
    },
    {
      "cell_type": "code",
      "source": [
        "import matplotlib.pyplot as plt\n",
        "layer_numbers = range(model.config.num_hidden_layers)\n",
        "plt.plot(layer_numbers, recalls, marker='o')\n",
        "plt.xlabel('Layer Number')\n",
        "plt.ylabel('Recall')\n",
        "plt.title('Recall vs Layer Number')\n",
        "plt.grid(True)\n",
        "plt.show()"
      ],
      "metadata": {
        "colab": {
          "base_uri": "https://localhost:8080/",
          "height": 472
        },
        "id": "WUZah7UxpyAz",
        "outputId": "86bad62b-0c2e-4a4e-a74c-3f69e7f9ee57"
      },
      "execution_count": 25,
      "outputs": [
        {
          "output_type": "display_data",
          "data": {
            "text/plain": [
              "<Figure size 640x480 with 1 Axes>"
            ],
            "image/png": "[encoded data removed]"
          },
          "metadata": {}
        }
      ]
    },
    {
      "cell_type": "code",
      "source": [
        "import matplotlib.pyplot as plt\n",
        "layer_numbers = range(model.config.num_hidden_layers)\n",
        "plt.plot(layer_numbers, precisions, marker='o')\n",
        "plt.xlabel('Layer Number')\n",
        "plt.ylabel('Precision')\n",
        "plt.title('Precision vs Layer Number')\n",
        "plt.grid(True)\n",
        "plt.show()"
      ],
      "metadata": {
        "colab": {
          "base_uri": "https://localhost:8080/",
          "height": 472
        },
        "id": "6iLGKNFXp2MM",
        "outputId": "9ba78e61-afb2-4d3c-d80b-9a89f77df8a6"
      },
      "execution_count": 26,
      "outputs": [
        {
          "output_type": "display_data",
          "data": {
            "text/plain": [
              "<Figure size 640x480 with 1 Axes>"
            ],
            "image/png": "[encoded data removed]"
          },
          "metadata": {}
        }
      ]
    },
    {
      "cell_type": "code",
      "source": [
        "import matplotlib.pyplot as plt\n",
        "layer_numbers = range(model.config.num_hidden_layers)\n",
        "plt.plot(layer_numbers, f1s, marker='o')\n",
        "plt.xlabel('Layer Number')\n",
        "plt.ylabel('f1-score')\n",
        "plt.title('f1-score vs Layer Number')\n",
        "plt.grid(True)\n",
        "plt.show()"
      ],
      "metadata": {
        "colab": {
          "base_uri": "https://localhost:8080/",
          "height": 472
        },
        "id": "Dticgr5op4GF",
        "outputId": "5591a7da-bd0a-4af7-bb1a-099b006931d0"
      },
      "execution_count": 27,
      "outputs": [
        {
          "output_type": "display_data",
          "data": {
            "text/plain": [
              "<Figure size 640x480 with 1 Axes>"
            ],
            "image/png": "[encoded data removed]"
          },
          "metadata": {}
        }
      ]
    },
    {
      "cell_type": "code",
      "source": [
        "def create_control_syllable_dataset(words, num_samples_per_letter):\n",
        "    dataset = []\n",
        "    letter_counts = defaultdict(list)\n",
        "\n",
        "    # Group words by their initial letter\n",
        "    for word in words:\n",
        "        first_letter = word[0].lower()\n",
        "        letter_counts[first_letter].append(word)\n",
        "\n",
        "    # Generate pairs of words with different syllable counts\n",
        "    for letter, words_with_letter in letter_counts.items():\n",
        "        if len(words_with_letter) >= 2:\n",
        "            # Shuffle the words with the same initial letter\n",
        "            random.shuffle(words_with_letter)\n",
        "            # Take pairs of words with different syllable counts\n",
        "            for i in range(0, len(words_with_letter) - 1, 2):\n",
        "                word_1 = words_with_letter[i]\n",
        "                word_2 = words_with_letter[i + 1]\n",
        "                dataset.append((word_1, syllable_count(word_1)))\n",
        "                dataset.append((word_2, syllable_count(word_2)))\n",
        "\n",
        "    random.shuffle(dataset)\n",
        "    return dataset\n",
        "\n",
        "control_dataset = create_control_syllable_dataset(words_list, num_samples_per_letter=100)\n",
        "\n",
        "# Split the control dataset\n",
        "X_control_train, X_control_test = train_test_split(control_dataset, test_size=0.2, random_state=42)\n",
        "\n",
        "# Perform the same process for the control task as for the syllable detection task\n",
        "control_accuracies = []\n",
        "control_recalls = []\n",
        "control_f1s = []\n",
        "control_precisions = []\n",
        "\n",
        "for layer_num in range(model.config.num_hidden_layers):\n",
        "    # Obtain embeddings for the train and test sets\n",
        "    control_train_embeds = get_embeddings_all_layers(model, tokenizer, X_control_train, pool_func=lambda x, dim: np.mean(x, axis=dim), layer=layer_num)\n",
        "    control_test_embeds = get_embeddings_all_layers(model, tokenizer, X_control_test, pool_func=lambda x, dim: np.mean(x, axis=dim), layer=layer_num)\n",
        "\n",
        "    # Concatenate the embeddings\n",
        "    control_train_embeds = np.concatenate(control_train_embeds, axis=0)\n",
        "    control_test_embeds = np.concatenate(control_test_embeds, axis=0)\n",
        "\n",
        "    control_train_embeds = scaler.fit_transform(control_train_embeds)\n",
        "    control_test_embeds = scaler.transform(control_test_embeds)\n",
        "\n",
        "    # Train the classifier\n",
        "    classifier_control = LogisticRegression(max_iter=1000)\n",
        "    classifier_control.fit(control_train_embeds, [X_control_train[i][1] for i in range(len(X_control_train))])\n",
        "\n",
        "    # Evaluate\n",
        "    print(f\"Layer {layer_num+1}:\")\n",
        "    print(classification_report([X_control_test[i][1] for i in range(len(X_control_test))], classifier_control.predict(control_test_embeds)))\n",
        "    report_control = classification_report([X_control_test[i][1] for i in range(len(X_control_test))], classifier_control.predict(control_test_embeds), output_dict=True)\n",
        "    control_accuracies.append(report_control[\"accuracy\"])\n",
        "    control_recalls.append(report_control['weighted avg']['recall'])\n",
        "    control_f1s.append(report_control['weighted avg']['f1-score'])\n",
        "    control_precisions.append(report_control['weighted avg']['precision'])\n"
      ],
      "metadata": {
        "id": "m1C5FidBrWZA"
      },
      "execution_count": null,
      "outputs": []
    },
    {
      "cell_type": "code",
      "source": [
        "import matplotlib.pyplot as plt\n",
        "layer_numbers = range(model.config.num_hidden_layers)\n",
        "plt.plot(layer_numbers, accuracies, marker='o')\n",
        "plt.xlabel('Layer Number')\n",
        "plt.ylabel('Accuracy')\n",
        "plt.title('Accuracies vs Layer Number')\n",
        "plt.grid(True)\n",
        "plt.show()"
      ],
      "metadata": {
        "id": "F4AZPuV5re_Q"
      },
      "execution_count": null,
      "outputs": []
    },
    {
      "cell_type": "code",
      "source": [
        "import matplotlib.pyplot as plt\n",
        "layer_numbers = range(model.config.num_hidden_layers)\n",
        "plt.plot(layer_numbers, recalls, marker='o')\n",
        "plt.xlabel('Layer Number')\n",
        "plt.ylabel('Recall')\n",
        "plt.title('Recall vs Layer Number')\n",
        "plt.grid(True)\n",
        "plt.show()"
      ],
      "metadata": {
        "id": "R1kQQxzZsg4l"
      },
      "execution_count": null,
      "outputs": []
    },
    {
      "cell_type": "code",
      "source": [
        "import matplotlib.pyplot as plt\n",
        "layer_numbers = range(model.config.num_hidden_layers)\n",
        "plt.plot(layer_numbers, precisions, marker='o')\n",
        "plt.xlabel('Layer Number')\n",
        "plt.ylabel('Precision')\n",
        "plt.title('Precision vs Layer Number')\n",
        "plt.grid(True)\n",
        "plt.show()"
      ],
      "metadata": {
        "id": "SUEHIEzwskKY"
      },
      "execution_count": null,
      "outputs": []
    },
    {
      "cell_type": "code",
      "source": [
        "import matplotlib.pyplot as plt\n",
        "layer_numbers = range(model.config.num_hidden_layers)\n",
        "plt.plot(layer_numbers, f1s, marker='o')\n",
        "plt.xlabel('Layer Number')\n",
        "plt.ylabel('f1-score')\n",
        "plt.title('f1-score vs Layer Number')\n",
        "plt.grid(True)\n",
        "plt.show()"
      ],
      "metadata": {
        "id": "SS3MSodIsmWc"
      },
      "execution_count": null,
      "outputs": []
    }
  ],
  "metadata": {
    "kernelspec": {
      "display_name": "Python 3",
      "name": "python3"
    },
    "language_info": {
      "codemirror_mode": {
        "name": "ipython",
        "version": 3
      },
      "file_extension": ".py",
      "mimetype": "text/x-python",
      "name": "python",
      "nbconvert_exporter": "python",
      "pygments_lexer": "ipython3",
      "version": "3.11.6"
    },
    "colab": {
      "provenance": [],
      "gpuType": "T4"
    },
    "accelerator": "GPU",
    "widgets": {
      "application/vnd.jupyter.widget-state+json": {
        "49ae2e134ed1495a906182cb88f48351": {
          "model_module": "@jupyter-widgets/controls",
          "model_name": "HBoxModel",
          "model_module_version": "1.5.0",
          "state": {
            "_dom_classes": [],
            "_model_module": "@jupyter-widgets/controls",
            "_model_module_version": "1.5.0",
            "_model_name": "HBoxModel",
            "_view_count": null,
            "_view_module": "@jupyter-widgets/controls",
            "_view_module_version": "1.5.0",
            "_view_name": "HBoxView",
            "box_style": "",
            "children": [
              "IPY_MODEL_b24b1328d5b34d47843e9621aca47817",
              "IPY_MODEL_02b34abc84424ed886cb9d9411d9188b",
              "IPY_MODEL_e61a224fa7f54223b836a6654abb2ec6"
            ],
            "layout": "IPY_MODEL_4b77ebf1e9944e7b9b300a692be4d380"
          }
        },
        "b24b1328d5b34d47843e9621aca47817": {
          "model_module": "@jupyter-widgets/controls",
          "model_name": "HTMLModel",
          "model_module_version": "1.5.0",
          "state": {
            "_dom_classes": [],
            "_model_module": "@jupyter-widgets/controls",
            "_model_module_version": "1.5.0",
            "_model_name": "HTMLModel",
            "_view_count": null,
            "_view_module": "@jupyter-widgets/controls",
            "_view_module_version": "1.5.0",
            "_view_name": "HTMLView",
            "description": "",
            "description_tooltip": null,
            "layout": "IPY_MODEL_a5d1f398f8644d7d9e9f0589e3969f10",
            "placeholder": "​",
            "style": "IPY_MODEL_5ceea0d1df9f4d759a6d72d540422793",
            "value": "config.json: 100%"
          }
        },
        "02b34abc84424ed886cb9d9411d9188b": {
          "model_module": "@jupyter-widgets/controls",
          "model_name": "FloatProgressModel",
          "model_module_version": "1.5.0",
          "state": {
            "_dom_classes": [],
            "_model_module": "@jupyter-widgets/controls",
            "_model_module_version": "1.5.0",
            "_model_name": "FloatProgressModel",
            "_view_count": null,
            "_view_module": "@jupyter-widgets/controls",
            "_view_module_version": "1.5.0",
            "_view_name": "ProgressView",
            "bar_style": "success",
            "description": "",
            "description_tooltip": null,
            "layout": "IPY_MODEL_1a43283f5a06462295d443cb5a663713",
            "max": 481,
            "min": 0,
            "orientation": "horizontal",
            "style": "IPY_MODEL_4d38282c50544e0ca60712a67dbf10bd",
            "value": 481
          }
        },
        "e61a224fa7f54223b836a6654abb2ec6": {
          "model_module": "@jupyter-widgets/controls",
          "model_name": "HTMLModel",
          "model_module_version": "1.5.0",
          "state": {
            "_dom_classes": [],
            "_model_module": "@jupyter-widgets/controls",
            "_model_module_version": "1.5.0",
            "_model_name": "HTMLModel",
            "_view_count": null,
            "_view_module": "@jupyter-widgets/controls",
            "_view_module_version": "1.5.0",
            "_view_name": "HTMLView",
            "description": "",
            "description_tooltip": null,
            "layout": "IPY_MODEL_016d3036287d4c32b87f467648cf0b95",
            "placeholder": "​",
            "style": "IPY_MODEL_cc14adbf62a4491d84ecc34c130fc405",
            "value": " 481/481 [00:00&lt;00:00, 30.6kB/s]"
          }
        },
        "4b77ebf1e9944e7b9b300a692be4d380": {
          "model_module": "@jupyter-widgets/base",
          "model_name": "LayoutModel",
          "model_module_version": "1.2.0",
          "state": {
            "_model_module": "@jupyter-widgets/base",
            "_model_module_version": "1.2.0",
            "_model_name": "LayoutModel",
            "_view_count": null,
            "_view_module": "@jupyter-widgets/base",
            "_view_module_version": "1.2.0",
            "_view_name": "LayoutView",
            "align_content": null,
            "align_items": null,
            "align_self": null,
            "border": null,
            "bottom": null,
            "display": null,
            "flex": null,
            "flex_flow": null,
            "grid_area": null,
            "grid_auto_columns": null,
            "grid_auto_flow": null,
            "grid_auto_rows": null,
            "grid_column": null,
            "grid_gap": null,
            "grid_row": null,
            "grid_template_areas": null,
            "grid_template_columns": null,
            "grid_template_rows": null,
            "height": null,
            "justify_content": null,
            "justify_items": null,
            "left": null,
            "margin": null,
            "max_height": null,
            "max_width": null,
            "min_height": null,
            "min_width": null,
            "object_fit": null,
            "object_position": null,
            "order": null,
            "overflow": null,
            "overflow_x": null,
            "overflow_y": null,
            "padding": null,
            "right": null,
            "top": null,
            "visibility": null,
            "width": null
          }
        },
        "a5d1f398f8644d7d9e9f0589e3969f10": {
          "model_module": "@jupyter-widgets/base",
          "model_name": "LayoutModel",
          "model_module_version": "1.2.0",
          "state": {
            "_model_module": "@jupyter-widgets/base",
            "_model_module_version": "1.2.0",
            "_model_name": "LayoutModel",
            "_view_count": null,
            "_view_module": "@jupyter-widgets/base",
            "_view_module_version": "1.2.0",
            "_view_name": "LayoutView",
            "align_content": null,
            "align_items": null,
            "align_self": null,
            "border": null,
            "bottom": null,
            "display": null,
            "flex": null,
            "flex_flow": null,
            "grid_area": null,
            "grid_auto_columns": null,
            "grid_auto_flow": null,
            "grid_auto_rows": null,
            "grid_column": null,
            "grid_gap": null,
            "grid_row": null,
            "grid_template_areas": null,
            "grid_template_columns": null,
            "grid_template_rows": null,
            "height": null,
            "justify_content": null,
            "justify_items": null,
            "left": null,
            "margin": null,
            "max_height": null,
            "max_width": null,
            "min_height": null,
            "min_width": null,
            "object_fit": null,
            "object_position": null,
            "order": null,
            "overflow": null,
            "overflow_x": null,
            "overflow_y": null,
            "padding": null,
            "right": null,
            "top": null,
            "visibility": null,
            "width": null
          }
        },
        "5ceea0d1df9f4d759a6d72d540422793": {
          "model_module": "@jupyter-widgets/controls",
          "model_name": "DescriptionStyleModel",
          "model_module_version": "1.5.0",
          "state": {
            "_model_module": "@jupyter-widgets/controls",
            "_model_module_version": "1.5.0",
            "_model_name": "DescriptionStyleModel",
            "_view_count": null,
            "_view_module": "@jupyter-widgets/base",
            "_view_module_version": "1.2.0",
            "_view_name": "StyleView",
            "description_width": ""
          }
        },
        "1a43283f5a06462295d443cb5a663713": {
          "model_module": "@jupyter-widgets/base",
          "model_name": "LayoutModel",
          "model_module_version": "1.2.0",
          "state": {
            "_model_module": "@jupyter-widgets/base",
            "_model_module_version": "1.2.0",
            "_model_name": "LayoutModel",
            "_view_count": null,
            "_view_module": "@jupyter-widgets/base",
            "_view_module_version": "1.2.0",
            "_view_name": "LayoutView",
            "align_content": null,
            "align_items": null,
            "align_self": null,
            "border": null,
            "bottom": null,
            "display": null,
            "flex": null,
            "flex_flow": null,
            "grid_area": null,
            "grid_auto_columns": null,
            "grid_auto_flow": null,
            "grid_auto_rows": null,
            "grid_column": null,
            "grid_gap": null,
            "grid_row": null,
            "grid_template_areas": null,
            "grid_template_columns": null,
            "grid_template_rows": null,
            "height": null,
            "justify_content": null,
            "justify_items": null,
            "left": null,
            "margin": null,
            "max_height": null,
            "max_width": null,
            "min_height": null,
            "min_width": null,
            "object_fit": null,
            "object_position": null,
            "order": null,
            "overflow": null,
            "overflow_x": null,
            "overflow_y": null,
            "padding": null,
            "right": null,
            "top": null,
            "visibility": null,
            "width": null
          }
        },
        "4d38282c50544e0ca60712a67dbf10bd": {
          "model_module": "@jupyter-widgets/controls",
          "model_name": "ProgressStyleModel",
          "model_module_version": "1.5.0",
          "state": {
            "_model_module": "@jupyter-widgets/controls",
            "_model_module_version": "1.5.0",
            "_model_name": "ProgressStyleModel",
            "_view_count": null,
            "_view_module": "@jupyter-widgets/base",
            "_view_module_version": "1.2.0",
            "_view_name": "StyleView",
            "bar_color": null,
            "description_width": ""
          }
        },
        "016d3036287d4c32b87f467648cf0b95": {
          "model_module": "@jupyter-widgets/base",
          "model_name": "LayoutModel",
          "model_module_version": "1.2.0",
          "state": {
            "_model_module": "@jupyter-widgets/base",
            "_model_module_version": "1.2.0",
            "_model_name": "LayoutModel",
            "_view_count": null,
            "_view_module": "@jupyter-widgets/base",
            "_view_module_version": "1.2.0",
            "_view_name": "LayoutView",
            "align_content": null,
            "align_items": null,
            "align_self": null,
            "border": null,
            "bottom": null,
            "display": null,
            "flex": null,
            "flex_flow": null,
            "grid_area": null,
            "grid_auto_columns": null,
            "grid_auto_flow": null,
            "grid_auto_rows": null,
            "grid_column": null,
            "grid_gap": null,
            "grid_row": null,
            "grid_template_areas": null,
            "grid_template_columns": null,
            "grid_template_rows": null,
            "height": null,
            "justify_content": null,
            "justify_items": null,
            "left": null,
            "margin": null,
            "max_height": null,
            "max_width": null,
            "min_height": null,
            "min_width": null,
            "object_fit": null,
            "object_position": null,
            "order": null,
            "overflow": null,
            "overflow_x": null,
            "overflow_y": null,
            "padding": null,
            "right": null,
            "top": null,
            "visibility": null,
            "width": null
          }
        },
        "cc14adbf62a4491d84ecc34c130fc405": {
          "model_module": "@jupyter-widgets/controls",
          "model_name": "DescriptionStyleModel",
          "model_module_version": "1.5.0",
          "state": {
            "_model_module": "@jupyter-widgets/controls",
            "_model_module_version": "1.5.0",
            "_model_name": "DescriptionStyleModel",
            "_view_count": null,
            "_view_module": "@jupyter-widgets/base",
            "_view_module_version": "1.2.0",
            "_view_name": "StyleView",
            "description_width": ""
          }
        },
        "7f3f77066c9447dcb0b885a63ae2256e": {
          "model_module": "@jupyter-widgets/controls",
          "model_name": "HBoxModel",
          "model_module_version": "1.5.0",
          "state": {
            "_dom_classes": [],
            "_model_module": "@jupyter-widgets/controls",
            "_model_module_version": "1.5.0",
            "_model_name": "HBoxModel",
            "_view_count": null,
            "_view_module": "@jupyter-widgets/controls",
            "_view_module_version": "1.5.0",
            "_view_name": "HBoxView",
            "box_style": "",
            "children": [
              "IPY_MODEL_7f05b1edd64c4f9cb23eb2743312b8b2",
              "IPY_MODEL_46c533b8638a4f9db4facf0389b7de6b",
              "IPY_MODEL_fdb34f2c46b246b494bc5d25ad995e2c"
            ],
            "layout": "IPY_MODEL_614eceaeb2594a4f9699a702aee4175f"
          }
        },
        "7f05b1edd64c4f9cb23eb2743312b8b2": {
          "model_module": "@jupyter-widgets/controls",
          "model_name": "HTMLModel",
          "model_module_version": "1.5.0",
          "state": {
            "_dom_classes": [],
            "_model_module": "@jupyter-widgets/controls",
            "_model_module_version": "1.5.0",
            "_model_name": "HTMLModel",
            "_view_count": null,
            "_view_module": "@jupyter-widgets/controls",
            "_view_module_version": "1.5.0",
            "_view_name": "HTMLView",
            "description": "",
            "description_tooltip": null,
            "layout": "IPY_MODEL_bd5184c79a084da1abc7fa9a863ba6d3",
            "placeholder": "​",
            "style": "IPY_MODEL_043a4ff031cb4410a89f4ab9d4a8a6ff",
            "value": "model.safetensors: 100%"
          }
        },
        "46c533b8638a4f9db4facf0389b7de6b": {
          "model_module": "@jupyter-widgets/controls",
          "model_name": "FloatProgressModel",
          "model_module_version": "1.5.0",
          "state": {
            "_dom_classes": [],
            "_model_module": "@jupyter-widgets/controls",
            "_model_module_version": "1.5.0",
            "_model_name": "FloatProgressModel",
            "_view_count": null,
            "_view_module": "@jupyter-widgets/controls",
            "_view_module_version": "1.5.0",
            "_view_name": "ProgressView",
            "bar_style": "success",
            "description": "",
            "description_tooltip": null,
            "layout": "IPY_MODEL_98f04a5a63f1464eac8602225fd52941",
            "max": 498818054,
            "min": 0,
            "orientation": "horizontal",
            "style": "IPY_MODEL_e8e07ba4e2264ea99bbc9753f87a9754",
            "value": 498818054
          }
        },
        "fdb34f2c46b246b494bc5d25ad995e2c": {
          "model_module": "@jupyter-widgets/controls",
          "model_name": "HTMLModel",
          "model_module_version": "1.5.0",
          "state": {
            "_dom_classes": [],
            "_model_module": "@jupyter-widgets/controls",
            "_model_module_version": "1.5.0",
            "_model_name": "HTMLModel",
            "_view_count": null,
            "_view_module": "@jupyter-widgets/controls",
            "_view_module_version": "1.5.0",
            "_view_name": "HTMLView",
            "description": "",
            "description_tooltip": null,
            "layout": "IPY_MODEL_b9f65dcc1a774951a8ed64d9099db399",
            "placeholder": "​",
            "style": "IPY_MODEL_3c6845db986f476282e1ad508b5ed869",
            "value": " 499M/499M [00:02&lt;00:00, 177MB/s]"
          }
        },
        "614eceaeb2594a4f9699a702aee4175f": {
          "model_module": "@jupyter-widgets/base",
          "model_name": "LayoutModel",
          "model_module_version": "1.2.0",
          "state": {
            "_model_module": "@jupyter-widgets/base",
            "_model_module_version": "1.2.0",
            "_model_name": "LayoutModel",
            "_view_count": null,
            "_view_module": "@jupyter-widgets/base",
            "_view_module_version": "1.2.0",
            "_view_name": "LayoutView",
            "align_content": null,
            "align_items": null,
            "align_self": null,
            "border": null,
            "bottom": null,
            "display": null,
            "flex": null,
            "flex_flow": null,
            "grid_area": null,
            "grid_auto_columns": null,
            "grid_auto_flow": null,
            "grid_auto_rows": null,
            "grid_column": null,
            "grid_gap": null,
            "grid_row": null,
            "grid_template_areas": null,
            "grid_template_columns": null,
            "grid_template_rows": null,
            "height": null,
            "justify_content": null,
            "justify_items": null,
            "left": null,
            "margin": null,
            "max_height": null,
            "max_width": null,
            "min_height": null,
            "min_width": null,
            "object_fit": null,
            "object_position": null,
            "order": null,
            "overflow": null,
            "overflow_x": null,
            "overflow_y": null,
            "padding": null,
            "right": null,
            "top": null,
            "visibility": null,
            "width": null
          }
        },
        "bd5184c79a084da1abc7fa9a863ba6d3": {
          "model_module": "@jupyter-widgets/base",
          "model_name": "LayoutModel",
          "model_module_version": "1.2.0",
          "state": {
            "_model_module": "@jupyter-widgets/base",
            "_model_module_version": "1.2.0",
            "_model_name": "LayoutModel",
            "_view_count": null,
            "_view_module": "@jupyter-widgets/base",
            "_view_module_version": "1.2.0",
            "_view_name": "LayoutView",
            "align_content": null,
            "align_items": null,
            "align_self": null,
            "border": null,
            "bottom": null,
            "display": null,
            "flex": null,
            "flex_flow": null,
            "grid_area": null,
            "grid_auto_columns": null,
            "grid_auto_flow": null,
            "grid_auto_rows": null,
            "grid_column": null,
            "grid_gap": null,
            "grid_row": null,
            "grid_template_areas": null,
            "grid_template_columns": null,
            "grid_template_rows": null,
            "height": null,
            "justify_content": null,
            "justify_items": null,
            "left": null,
            "margin": null,
            "max_height": null,
            "max_width": null,
            "min_height": null,
            "min_width": null,
            "object_fit": null,
            "object_position": null,
            "order": null,
            "overflow": null,
            "overflow_x": null,
            "overflow_y": null,
            "padding": null,
            "right": null,
            "top": null,
            "visibility": null,
            "width": null
          }
        },
        "043a4ff031cb4410a89f4ab9d4a8a6ff": {
          "model_module": "@jupyter-widgets/controls",
          "model_name": "DescriptionStyleModel",
          "model_module_version": "1.5.0",
          "state": {
            "_model_module": "@jupyter-widgets/controls",
            "_model_module_version": "1.5.0",
            "_model_name": "DescriptionStyleModel",
            "_view_count": null,
            "_view_module": "@jupyter-widgets/base",
            "_view_module_version": "1.2.0",
            "_view_name": "StyleView",
            "description_width": ""
          }
        },
        "98f04a5a63f1464eac8602225fd52941": {
          "model_module": "@jupyter-widgets/base",
          "model_name": "LayoutModel",
          "model_module_version": "1.2.0",
          "state": {
            "_model_module": "@jupyter-widgets/base",
            "_model_module_version": "1.2.0",
            "_model_name": "LayoutModel",
            "_view_count": null,
            "_view_module": "@jupyter-widgets/base",
            "_view_module_version": "1.2.0",
            "_view_name": "LayoutView",
            "align_content": null,
            "align_items": null,
            "align_self": null,
            "border": null,
            "bottom": null,
            "display": null,
            "flex": null,
            "flex_flow": null,
            "grid_area": null,
            "grid_auto_columns": null,
            "grid_auto_flow": null,
            "grid_auto_rows": null,
            "grid_column": null,
            "grid_gap": null,
            "grid_row": null,
            "grid_template_areas": null,
            "grid_template_columns": null,
            "grid_template_rows": null,
            "height": null,
            "justify_content": null,
            "justify_items": null,
            "left": null,
            "margin": null,
            "max_height": null,
            "max_width": null,
            "min_height": null,
            "min_width": null,
            "object_fit": null,
            "object_position": null,
            "order": null,
            "overflow": null,
            "overflow_x": null,
            "overflow_y": null,
            "padding": null,
            "right": null,
            "top": null,
            "visibility": null,
            "width": null
          }
        },
        "e8e07ba4e2264ea99bbc9753f87a9754": {
          "model_module": "@jupyter-widgets/controls",
          "model_name": "ProgressStyleModel",
          "model_module_version": "1.5.0",
          "state": {
            "_model_module": "@jupyter-widgets/controls",
            "_model_module_version": "1.5.0",
            "_model_name": "ProgressStyleModel",
            "_view_count": null,
            "_view_module": "@jupyter-widgets/base",
            "_view_module_version": "1.2.0",
            "_view_name": "StyleView",
            "bar_color": null,
            "description_width": ""
          }
        },
        "b9f65dcc1a774951a8ed64d9099db399": {
          "model_module": "@jupyter-widgets/base",
          "model_name": "LayoutModel",
          "model_module_version": "1.2.0",
          "state": {
            "_model_module": "@jupyter-widgets/base",
            "_model_module_version": "1.2.0",
            "_model_name": "LayoutModel",
            "_view_count": null,
            "_view_module": "@jupyter-widgets/base",
            "_view_module_version": "1.2.0",
            "_view_name": "LayoutView",
            "align_content": null,
            "align_items": null,
            "align_self": null,
            "border": null,
            "bottom": null,
            "display": null,
            "flex": null,
            "flex_flow": null,
            "grid_area": null,
            "grid_auto_columns": null,
            "grid_auto_flow": null,
            "grid_auto_rows": null,
            "grid_column": null,
            "grid_gap": null,
            "grid_row": null,
            "grid_template_areas": null,
            "grid_template_columns": null,
            "grid_template_rows": null,
            "height": null,
            "justify_content": null,
            "justify_items": null,
            "left": null,
            "margin": null,
            "max_height": null,
            "max_width": null,
            "min_height": null,
            "min_width": null,
            "object_fit": null,
            "object_position": null,
            "order": null,
            "overflow": null,
            "overflow_x": null,
            "overflow_y": null,
            "padding": null,
            "right": null,
            "top": null,
            "visibility": null,
            "width": null
          }
        },
        "3c6845db986f476282e1ad508b5ed869": {
          "model_module": "@jupyter-widgets/controls",
          "model_name": "DescriptionStyleModel",
          "model_module_version": "1.5.0",
          "state": {
            "_model_module": "@jupyter-widgets/controls",
            "_model_module_version": "1.5.0",
            "_model_name": "DescriptionStyleModel",
            "_view_count": null,
            "_view_module": "@jupyter-widgets/base",
            "_view_module_version": "1.2.0",
            "_view_name": "StyleView",
            "description_width": ""
          }
        },
        "4da7697c22c64bafa3f6dfffb272430d": {
          "model_module": "@jupyter-widgets/controls",
          "model_name": "HBoxModel",
          "model_module_version": "1.5.0",
          "state": {
            "_dom_classes": [],
            "_model_module": "@jupyter-widgets/controls",
            "_model_module_version": "1.5.0",
            "_model_name": "HBoxModel",
            "_view_count": null,
            "_view_module": "@jupyter-widgets/controls",
            "_view_module_version": "1.5.0",
            "_view_name": "HBoxView",
            "box_style": "",
            "children": [
              "IPY_MODEL_55fd6cae7f8b4fa1a5e04631291c82e1",
              "IPY_MODEL_e3654ddee2b34fd3981e405cbc807c1d",
              "IPY_MODEL_0e1ac8003328458b8794fae5ed2b7f11"
            ],
            "layout": "IPY_MODEL_72c95b1eab004cba8271628551293e4c"
          }
        },
        "55fd6cae7f8b4fa1a5e04631291c82e1": {
          "model_module": "@jupyter-widgets/controls",
          "model_name": "HTMLModel",
          "model_module_version": "1.5.0",
          "state": {
            "_dom_classes": [],
            "_model_module": "@jupyter-widgets/controls",
            "_model_module_version": "1.5.0",
            "_model_name": "HTMLModel",
            "_view_count": null,
            "_view_module": "@jupyter-widgets/controls",
            "_view_module_version": "1.5.0",
            "_view_name": "HTMLView",
            "description": "",
            "description_tooltip": null,
            "layout": "IPY_MODEL_52d26fe7aedc45949ff10e2b5611aee5",
            "placeholder": "​",
            "style": "IPY_MODEL_90309082c65e454c9a9d0d4c1aa54416",
            "value": "tokenizer_config.json: 100%"
          }
        },
        "e3654ddee2b34fd3981e405cbc807c1d": {
          "model_module": "@jupyter-widgets/controls",
          "model_name": "FloatProgressModel",
          "model_module_version": "1.5.0",
          "state": {
            "_dom_classes": [],
            "_model_module": "@jupyter-widgets/controls",
            "_model_module_version": "1.5.0",
            "_model_name": "FloatProgressModel",
            "_view_count": null,
            "_view_module": "@jupyter-widgets/controls",
            "_view_module_version": "1.5.0",
            "_view_name": "ProgressView",
            "bar_style": "success",
            "description": "",
            "description_tooltip": null,
            "layout": "IPY_MODEL_14b3dbb421ee47b89740e829c5c24d4d",
            "max": 25,
            "min": 0,
            "orientation": "horizontal",
            "style": "IPY_MODEL_5812f199b846445f8af814b93b848f4a",
            "value": 25
          }
        },
        "0e1ac8003328458b8794fae5ed2b7f11": {
          "model_module": "@jupyter-widgets/controls",
          "model_name": "HTMLModel",
          "model_module_version": "1.5.0",
          "state": {
            "_dom_classes": [],
            "_model_module": "@jupyter-widgets/controls",
            "_model_module_version": "1.5.0",
            "_model_name": "HTMLModel",
            "_view_count": null,
            "_view_module": "@jupyter-widgets/controls",
            "_view_module_version": "1.5.0",
            "_view_name": "HTMLView",
            "description": "",
            "description_tooltip": null,
            "layout": "IPY_MODEL_e161e8d8f3104cba94f1d7b29214f3d2",
            "placeholder": "​",
            "style": "IPY_MODEL_313ec13f38ee4aafb62e55262807a990",
            "value": " 25.0/25.0 [00:00&lt;00:00, 1.71kB/s]"
          }
        },
        "72c95b1eab004cba8271628551293e4c": {
          "model_module": "@jupyter-widgets/base",
          "model_name": "LayoutModel",
          "model_module_version": "1.2.0",
          "state": {
            "_model_module": "@jupyter-widgets/base",
            "_model_module_version": "1.2.0",
            "_model_name": "LayoutModel",
            "_view_count": null,
            "_view_module": "@jupyter-widgets/base",
            "_view_module_version": "1.2.0",
            "_view_name": "LayoutView",
            "align_content": null,
            "align_items": null,
            "align_self": null,
            "border": null,
            "bottom": null,
            "display": null,
            "flex": null,
            "flex_flow": null,
            "grid_area": null,
            "grid_auto_columns": null,
            "grid_auto_flow": null,
            "grid_auto_rows": null,
            "grid_column": null,
            "grid_gap": null,
            "grid_row": null,
            "grid_template_areas": null,
            "grid_template_columns": null,
            "grid_template_rows": null,
            "height": null,
            "justify_content": null,
            "justify_items": null,
            "left": null,
            "margin": null,
            "max_height": null,
            "max_width": null,
            "min_height": null,
            "min_width": null,
            "object_fit": null,
            "object_position": null,
            "order": null,
            "overflow": null,
            "overflow_x": null,
            "overflow_y": null,
            "padding": null,
            "right": null,
            "top": null,
            "visibility": null,
            "width": null
          }
        },
        "52d26fe7aedc45949ff10e2b5611aee5": {
          "model_module": "@jupyter-widgets/base",
          "model_name": "LayoutModel",
          "model_module_version": "1.2.0",
          "state": {
            "_model_module": "@jupyter-widgets/base",
            "_model_module_version": "1.2.0",
            "_model_name": "LayoutModel",
            "_view_count": null,
            "_view_module": "@jupyter-widgets/base",
            "_view_module_version": "1.2.0",
            "_view_name": "LayoutView",
            "align_content": null,
            "align_items": null,
            "align_self": null,
            "border": null,
            "bottom": null,
            "display": null,
            "flex": null,
            "flex_flow": null,
            "grid_area": null,
            "grid_auto_columns": null,
            "grid_auto_flow": null,
            "grid_auto_rows": null,
            "grid_column": null,
            "grid_gap": null,
            "grid_row": null,
            "grid_template_areas": null,
            "grid_template_columns": null,
            "grid_template_rows": null,
            "height": null,
            "justify_content": null,
            "justify_items": null,
            "left": null,
            "margin": null,
            "max_height": null,
            "max_width": null,
            "min_height": null,
            "min_width": null,
            "object_fit": null,
            "object_position": null,
            "order": null,
            "overflow": null,
            "overflow_x": null,
            "overflow_y": null,
            "padding": null,
            "right": null,
            "top": null,
            "visibility": null,
            "width": null
          }
        },
        "90309082c65e454c9a9d0d4c1aa54416": {
          "model_module": "@jupyter-widgets/controls",
          "model_name": "DescriptionStyleModel",
          "model_module_version": "1.5.0",
          "state": {
            "_model_module": "@jupyter-widgets/controls",
            "_model_module_version": "1.5.0",
            "_model_name": "DescriptionStyleModel",
            "_view_count": null,
            "_view_module": "@jupyter-widgets/base",
            "_view_module_version": "1.2.0",
            "_view_name": "StyleView",
            "description_width": ""
          }
        },
        "14b3dbb421ee47b89740e829c5c24d4d": {
          "model_module": "@jupyter-widgets/base",
          "model_name": "LayoutModel",
          "model_module_version": "1.2.0",
          "state": {
            "_model_module": "@jupyter-widgets/base",
            "_model_module_version": "1.2.0",
            "_model_name": "LayoutModel",
            "_view_count": null,
            "_view_module": "@jupyter-widgets/base",
            "_view_module_version": "1.2.0",
            "_view_name": "LayoutView",
            "align_content": null,
            "align_items": null,
            "align_self": null,
            "border": null,
            "bottom": null,
            "display": null,
            "flex": null,
            "flex_flow": null,
            "grid_area": null,
            "grid_auto_columns": null,
            "grid_auto_flow": null,
            "grid_auto_rows": null,
            "grid_column": null,
            "grid_gap": null,
            "grid_row": null,
            "grid_template_areas": null,
            "grid_template_columns": null,
            "grid_template_rows": null,
            "height": null,
            "justify_content": null,
            "justify_items": null,
            "left": null,
            "margin": null,
            "max_height": null,
            "max_width": null,
            "min_height": null,
            "min_width": null,
            "object_fit": null,
            "object_position": null,
            "order": null,
            "overflow": null,
            "overflow_x": null,
            "overflow_y": null,
            "padding": null,
            "right": null,
            "top": null,
            "visibility": null,
            "width": null
          }
        },
        "5812f199b846445f8af814b93b848f4a": {
          "model_module": "@jupyter-widgets/controls",
          "model_name": "ProgressStyleModel",
          "model_module_version": "1.5.0",
          "state": {
            "_model_module": "@jupyter-widgets/controls",
            "_model_module_version": "1.5.0",
            "_model_name": "ProgressStyleModel",
            "_view_count": null,
            "_view_module": "@jupyter-widgets/base",
            "_view_module_version": "1.2.0",
            "_view_name": "StyleView",
            "bar_color": null,
            "description_width": ""
          }
        },
        "e161e8d8f3104cba94f1d7b29214f3d2": {
          "model_module": "@jupyter-widgets/base",
          "model_name": "LayoutModel",
          "model_module_version": "1.2.0",
          "state": {
            "_model_module": "@jupyter-widgets/base",
            "_model_module_version": "1.2.0",
            "_model_name": "LayoutModel",
            "_view_count": null,
            "_view_module": "@jupyter-widgets/base",
            "_view_module_version": "1.2.0",
            "_view_name": "LayoutView",
            "align_content": null,
            "align_items": null,
            "align_self": null,
            "border": null,
            "bottom": null,
            "display": null,
            "flex": null,
            "flex_flow": null,
            "grid_area": null,
            "grid_auto_columns": null,
            "grid_auto_flow": null,
            "grid_auto_rows": null,
            "grid_column": null,
            "grid_gap": null,
            "grid_row": null,
            "grid_template_areas": null,
            "grid_template_columns": null,
            "grid_template_rows": null,
            "height": null,
            "justify_content": null,
            "justify_items": null,
            "left": null,
            "margin": null,
            "max_height": null,
            "max_width": null,
            "min_height": null,
            "min_width": null,
            "object_fit": null,
            "object_position": null,
            "order": null,
            "overflow": null,
            "overflow_x": null,
            "overflow_y": null,
            "padding": null,
            "right": null,
            "top": null,
            "visibility": null,
            "width": null
          }
        },
        "313ec13f38ee4aafb62e55262807a990": {
          "model_module": "@jupyter-widgets/controls",
          "model_name": "DescriptionStyleModel",
          "model_module_version": "1.5.0",
          "state": {
            "_model_module": "@jupyter-widgets/controls",
            "_model_module_version": "1.5.0",
            "_model_name": "DescriptionStyleModel",
            "_view_count": null,
            "_view_module": "@jupyter-widgets/base",
            "_view_module_version": "1.2.0",
            "_view_name": "StyleView",
            "description_width": ""
          }
        },
        "99fd7b9b3f8b408393a10a5fb08b670c": {
          "model_module": "@jupyter-widgets/controls",
          "model_name": "HBoxModel",
          "model_module_version": "1.5.0",
          "state": {
            "_dom_classes": [],
            "_model_module": "@jupyter-widgets/controls",
            "_model_module_version": "1.5.0",
            "_model_name": "HBoxModel",
            "_view_count": null,
            "_view_module": "@jupyter-widgets/controls",
            "_view_module_version": "1.5.0",
            "_view_name": "HBoxView",
            "box_style": "",
            "children": [
              "IPY_MODEL_b5457491d2164abc91fb485cd3655851",
              "IPY_MODEL_d519495424e44a58831676c8e3329f28",
              "IPY_MODEL_65479530fb0e4c4f87e0b3a79d53f4f9"
            ],
            "layout": "IPY_MODEL_a307d0a33e5941ffb45d2ac6ade71e63"
          }
        },
        "b5457491d2164abc91fb485cd3655851": {
          "model_module": "@jupyter-widgets/controls",
          "model_name": "HTMLModel",
          "model_module_version": "1.5.0",
          "state": {
            "_dom_classes": [],
            "_model_module": "@jupyter-widgets/controls",
            "_model_module_version": "1.5.0",
            "_model_name": "HTMLModel",
            "_view_count": null,
            "_view_module": "@jupyter-widgets/controls",
            "_view_module_version": "1.5.0",
            "_view_name": "HTMLView",
            "description": "",
            "description_tooltip": null,
            "layout": "IPY_MODEL_41db11fd148b440a856e68ee98f440ff",
            "placeholder": "​",
            "style": "IPY_MODEL_64b296caf84844fd841b5d3e93a0ee6c",
            "value": "vocab.json: 100%"
          }
        },
        "d519495424e44a58831676c8e3329f28": {
          "model_module": "@jupyter-widgets/controls",
          "model_name": "FloatProgressModel",
          "model_module_version": "1.5.0",
          "state": {
            "_dom_classes": [],
            "_model_module": "@jupyter-widgets/controls",
            "_model_module_version": "1.5.0",
            "_model_name": "FloatProgressModel",
            "_view_count": null,
            "_view_module": "@jupyter-widgets/controls",
            "_view_module_version": "1.5.0",
            "_view_name": "ProgressView",
            "bar_style": "success",
            "description": "",
            "description_tooltip": null,
            "layout": "IPY_MODEL_926b4e06a66445b38214f53a71d6c3bf",
            "max": 898823,
            "min": 0,
            "orientation": "horizontal",
            "style": "IPY_MODEL_d54d68c911fc4b9b8dd7bdb69a2dc68f",
            "value": 898823
          }
        },
        "65479530fb0e4c4f87e0b3a79d53f4f9": {
          "model_module": "@jupyter-widgets/controls",
          "model_name": "HTMLModel",
          "model_module_version": "1.5.0",
          "state": {
            "_dom_classes": [],
            "_model_module": "@jupyter-widgets/controls",
            "_model_module_version": "1.5.0",
            "_model_name": "HTMLModel",
            "_view_count": null,
            "_view_module": "@jupyter-widgets/controls",
            "_view_module_version": "1.5.0",
            "_view_name": "HTMLView",
            "description": "",
            "description_tooltip": null,
            "layout": "IPY_MODEL_7eb44bd6079d4f6a9eb9666bb5a557a5",
            "placeholder": "​",
            "style": "IPY_MODEL_5c430daf3c654e7b9a5ea36d64136b7f",
            "value": " 899k/899k [00:00&lt;00:00, 5.21MB/s]"
          }
        },
        "a307d0a33e5941ffb45d2ac6ade71e63": {
          "model_module": "@jupyter-widgets/base",
          "model_name": "LayoutModel",
          "model_module_version": "1.2.0",
          "state": {
            "_model_module": "@jupyter-widgets/base",
            "_model_module_version": "1.2.0",
            "_model_name": "LayoutModel",
            "_view_count": null,
            "_view_module": "@jupyter-widgets/base",
            "_view_module_version": "1.2.0",
            "_view_name": "LayoutView",
            "align_content": null,
            "align_items": null,
            "align_self": null,
            "border": null,
            "bottom": null,
            "display": null,
            "flex": null,
            "flex_flow": null,
            "grid_area": null,
            "grid_auto_columns": null,
            "grid_auto_flow": null,
            "grid_auto_rows": null,
            "grid_column": null,
            "grid_gap": null,
            "grid_row": null,
            "grid_template_areas": null,
            "grid_template_columns": null,
            "grid_template_rows": null,
            "height": null,
            "justify_content": null,
            "justify_items": null,
            "left": null,
            "margin": null,
            "max_height": null,
            "max_width": null,
            "min_height": null,
            "min_width": null,
            "object_fit": null,
            "object_position": null,
            "order": null,
            "overflow": null,
            "overflow_x": null,
            "overflow_y": null,
            "padding": null,
            "right": null,
            "top": null,
            "visibility": null,
            "width": null
          }
        },
        "41db11fd148b440a856e68ee98f440ff": {
          "model_module": "@jupyter-widgets/base",
          "model_name": "LayoutModel",
          "model_module_version": "1.2.0",
          "state": {
            "_model_module": "@jupyter-widgets/base",
            "_model_module_version": "1.2.0",
            "_model_name": "LayoutModel",
            "_view_count": null,
            "_view_module": "@jupyter-widgets/base",
            "_view_module_version": "1.2.0",
            "_view_name": "LayoutView",
            "align_content": null,
            "align_items": null,
            "align_self": null,
            "border": null,
            "bottom": null,
            "display": null,
            "flex": null,
            "flex_flow": null,
            "grid_area": null,
            "grid_auto_columns": null,
            "grid_auto_flow": null,
            "grid_auto_rows": null,
            "grid_column": null,
            "grid_gap": null,
            "grid_row": null,
            "grid_template_areas": null,
            "grid_template_columns": null,
            "grid_template_rows": null,
            "height": null,
            "justify_content": null,
            "justify_items": null,
            "left": null,
            "margin": null,
            "max_height": null,
            "max_width": null,
            "min_height": null,
            "min_width": null,
            "object_fit": null,
            "object_position": null,
            "order": null,
            "overflow": null,
            "overflow_x": null,
            "overflow_y": null,
            "padding": null,
            "right": null,
            "top": null,
            "visibility": null,
            "width": null
          }
        },
        "64b296caf84844fd841b5d3e93a0ee6c": {
          "model_module": "@jupyter-widgets/controls",
          "model_name": "DescriptionStyleModel",
          "model_module_version": "1.5.0",
          "state": {
            "_model_module": "@jupyter-widgets/controls",
            "_model_module_version": "1.5.0",
            "_model_name": "DescriptionStyleModel",
            "_view_count": null,
            "_view_module": "@jupyter-widgets/base",
            "_view_module_version": "1.2.0",
            "_view_name": "StyleView",
            "description_width": ""
          }
        },
        "926b4e06a66445b38214f53a71d6c3bf": {
          "model_module": "@jupyter-widgets/base",
          "model_name": "LayoutModel",
          "model_module_version": "1.2.0",
          "state": {
            "_model_module": "@jupyter-widgets/base",
            "_model_module_version": "1.2.0",
            "_model_name": "LayoutModel",
            "_view_count": null,
            "_view_module": "@jupyter-widgets/base",
            "_view_module_version": "1.2.0",
            "_view_name": "LayoutView",
            "align_content": null,
            "align_items": null,
            "align_self": null,
            "border": null,
            "bottom": null,
            "display": null,
            "flex": null,
            "flex_flow": null,
            "grid_area": null,
            "grid_auto_columns": null,
            "grid_auto_flow": null,
            "grid_auto_rows": null,
            "grid_column": null,
            "grid_gap": null,
            "grid_row": null,
            "grid_template_areas": null,
            "grid_template_columns": null,
            "grid_template_rows": null,
            "height": null,
            "justify_content": null,
            "justify_items": null,
            "left": null,
            "margin": null,
            "max_height": null,
            "max_width": null,
            "min_height": null,
            "min_width": null,
            "object_fit": null,
            "object_position": null,
            "order": null,
            "overflow": null,
            "overflow_x": null,
            "overflow_y": null,
            "padding": null,
            "right": null,
            "top": null,
            "visibility": null,
            "width": null
          }
        },
        "d54d68c911fc4b9b8dd7bdb69a2dc68f": {
          "model_module": "@jupyter-widgets/controls",
          "model_name": "ProgressStyleModel",
          "model_module_version": "1.5.0",
          "state": {
            "_model_module": "@jupyter-widgets/controls",
            "_model_module_version": "1.5.0",
            "_model_name": "ProgressStyleModel",
            "_view_count": null,
            "_view_module": "@jupyter-widgets/base",
            "_view_module_version": "1.2.0",
            "_view_name": "StyleView",
            "bar_color": null,
            "description_width": ""
          }
        },
        "7eb44bd6079d4f6a9eb9666bb5a557a5": {
          "model_module": "@jupyter-widgets/base",
          "model_name": "LayoutModel",
          "model_module_version": "1.2.0",
          "state": {
            "_model_module": "@jupyter-widgets/base",
            "_model_module_version": "1.2.0",
            "_model_name": "LayoutModel",
            "_view_count": null,
            "_view_module": "@jupyter-widgets/base",
            "_view_module_version": "1.2.0",
            "_view_name": "LayoutView",
            "align_content": null,
            "align_items": null,
            "align_self": null,
            "border": null,
            "bottom": null,
            "display": null,
            "flex": null,
            "flex_flow": null,
            "grid_area": null,
            "grid_auto_columns": null,
            "grid_auto_flow": null,
            "grid_auto_rows": null,
            "grid_column": null,
            "grid_gap": null,
            "grid_row": null,
            "grid_template_areas": null,
            "grid_template_columns": null,
            "grid_template_rows": null,
            "height": null,
            "justify_content": null,
            "justify_items": null,
            "left": null,
            "margin": null,
            "max_height": null,
            "max_width": null,
            "min_height": null,
            "min_width": null,
            "object_fit": null,
            "object_position": null,
            "order": null,
            "overflow": null,
            "overflow_x": null,
            "overflow_y": null,
            "padding": null,
            "right": null,
            "top": null,
            "visibility": null,
            "width": null
          }
        },
        "5c430daf3c654e7b9a5ea36d64136b7f": {
          "model_module": "@jupyter-widgets/controls",
          "model_name": "DescriptionStyleModel",
          "model_module_version": "1.5.0",
          "state": {
            "_model_module": "@jupyter-widgets/controls",
            "_model_module_version": "1.5.0",
            "_model_name": "DescriptionStyleModel",
            "_view_count": null,
            "_view_module": "@jupyter-widgets/base",
            "_view_module_version": "1.2.0",
            "_view_name": "StyleView",
            "description_width": ""
          }
        },
        "217b4c1364ae492797de4d037216d442": {
          "model_module": "@jupyter-widgets/controls",
          "model_name": "HBoxModel",
          "model_module_version": "1.5.0",
          "state": {
            "_dom_classes": [],
            "_model_module": "@jupyter-widgets/controls",
            "_model_module_version": "1.5.0",
            "_model_name": "HBoxModel",
            "_view_count": null,
            "_view_module": "@jupyter-widgets/controls",
            "_view_module_version": "1.5.0",
            "_view_name": "HBoxView",
            "box_style": "",
            "children": [
              "IPY_MODEL_c3088f6b763c4a9987a5a282d8d4bb65",
              "IPY_MODEL_09ba6a00874042e5ac66731742d2019d",
              "IPY_MODEL_41b8785aef8e4915b78586efd9274f2f"
            ],
            "layout": "IPY_MODEL_a2824e7b4fc84a4a8a4edce89c9bb647"
          }
        },
        "c3088f6b763c4a9987a5a282d8d4bb65": {
          "model_module": "@jupyter-widgets/controls",
          "model_name": "HTMLModel",
          "model_module_version": "1.5.0",
          "state": {
            "_dom_classes": [],
            "_model_module": "@jupyter-widgets/controls",
            "_model_module_version": "1.5.0",
            "_model_name": "HTMLModel",
            "_view_count": null,
            "_view_module": "@jupyter-widgets/controls",
            "_view_module_version": "1.5.0",
            "_view_name": "HTMLView",
            "description": "",
            "description_tooltip": null,
            "layout": "IPY_MODEL_a76f7008e45c4bc39fa5159261c41d53",
            "placeholder": "​",
            "style": "IPY_MODEL_20de2eb437e34b9680f8c93eb6a9965f",
            "value": "merges.txt: 100%"
          }
        },
        "09ba6a00874042e5ac66731742d2019d": {
          "model_module": "@jupyter-widgets/controls",
          "model_name": "FloatProgressModel",
          "model_module_version": "1.5.0",
          "state": {
            "_dom_classes": [],
            "_model_module": "@jupyter-widgets/controls",
            "_model_module_version": "1.5.0",
            "_model_name": "FloatProgressModel",
            "_view_count": null,
            "_view_module": "@jupyter-widgets/controls",
            "_view_module_version": "1.5.0",
            "_view_name": "ProgressView",
            "bar_style": "success",
            "description": "",
            "description_tooltip": null,
            "layout": "IPY_MODEL_b164f32ba8644146acb4167ee7287f50",
            "max": 456318,
            "min": 0,
            "orientation": "horizontal",
            "style": "IPY_MODEL_7cd276ae872b4904ae975036c5e602da",
            "value": 456318
          }
        },
        "41b8785aef8e4915b78586efd9274f2f": {
          "model_module": "@jupyter-widgets/controls",
          "model_name": "HTMLModel",
          "model_module_version": "1.5.0",
          "state": {
            "_dom_classes": [],
            "_model_module": "@jupyter-widgets/controls",
            "_model_module_version": "1.5.0",
            "_model_name": "HTMLModel",
            "_view_count": null,
            "_view_module": "@jupyter-widgets/controls",
            "_view_module_version": "1.5.0",
            "_view_name": "HTMLView",
            "description": "",
            "description_tooltip": null,
            "layout": "IPY_MODEL_e2c40d25614040a48f85d7e6f6738e8a",
            "placeholder": "​",
            "style": "IPY_MODEL_45406984b43c4a82a5d294a2c0270499",
            "value": " 456k/456k [00:00&lt;00:00, 2.49MB/s]"
          }
        },
        "a2824e7b4fc84a4a8a4edce89c9bb647": {
          "model_module": "@jupyter-widgets/base",
          "model_name": "LayoutModel",
          "model_module_version": "1.2.0",
          "state": {
            "_model_module": "@jupyter-widgets/base",
            "_model_module_version": "1.2.0",
            "_model_name": "LayoutModel",
            "_view_count": null,
            "_view_module": "@jupyter-widgets/base",
            "_view_module_version": "1.2.0",
            "_view_name": "LayoutView",
            "align_content": null,
            "align_items": null,
            "align_self": null,
            "border": null,
            "bottom": null,
            "display": null,
            "flex": null,
            "flex_flow": null,
            "grid_area": null,
            "grid_auto_columns": null,
            "grid_auto_flow": null,
            "grid_auto_rows": null,
            "grid_column": null,
            "grid_gap": null,
            "grid_row": null,
            "grid_template_areas": null,
            "grid_template_columns": null,
            "grid_template_rows": null,
            "height": null,
            "justify_content": null,
            "justify_items": null,
            "left": null,
            "margin": null,
            "max_height": null,
            "max_width": null,
            "min_height": null,
            "min_width": null,
            "object_fit": null,
            "object_position": null,
            "order": null,
            "overflow": null,
            "overflow_x": null,
            "overflow_y": null,
            "padding": null,
            "right": null,
            "top": null,
            "visibility": null,
            "width": null
          }
        },
        "a76f7008e45c4bc39fa5159261c41d53": {
          "model_module": "@jupyter-widgets/base",
          "model_name": "LayoutModel",
          "model_module_version": "1.2.0",
          "state": {
            "_model_module": "@jupyter-widgets/base",
            "_model_module_version": "1.2.0",
            "_model_name": "LayoutModel",
            "_view_count": null,
            "_view_module": "@jupyter-widgets/base",
            "_view_module_version": "1.2.0",
            "_view_name": "LayoutView",
            "align_content": null,
            "align_items": null,
            "align_self": null,
            "border": null,
            "bottom": null,
            "display": null,
            "flex": null,
            "flex_flow": null,
            "grid_area": null,
            "grid_auto_columns": null,
            "grid_auto_flow": null,
            "grid_auto_rows": null,
            "grid_column": null,
            "grid_gap": null,
            "grid_row": null,
            "grid_template_areas": null,
            "grid_template_columns": null,
            "grid_template_rows": null,
            "height": null,
            "justify_content": null,
            "justify_items": null,
            "left": null,
            "margin": null,
            "max_height": null,
            "max_width": null,
            "min_height": null,
            "min_width": null,
            "object_fit": null,
            "object_position": null,
            "order": null,
            "overflow": null,
            "overflow_x": null,
            "overflow_y": null,
            "padding": null,
            "right": null,
            "top": null,
            "visibility": null,
            "width": null
          }
        },
        "20de2eb437e34b9680f8c93eb6a9965f": {
          "model_module": "@jupyter-widgets/controls",
          "model_name": "DescriptionStyleModel",
          "model_module_version": "1.5.0",
          "state": {
            "_model_module": "@jupyter-widgets/controls",
            "_model_module_version": "1.5.0",
            "_model_name": "DescriptionStyleModel",
            "_view_count": null,
            "_view_module": "@jupyter-widgets/base",
            "_view_module_version": "1.2.0",
            "_view_name": "StyleView",
            "description_width": ""
          }
        },
        "b164f32ba8644146acb4167ee7287f50": {
          "model_module": "@jupyter-widgets/base",
          "model_name": "LayoutModel",
          "model_module_version": "1.2.0",
          "state": {
            "_model_module": "@jupyter-widgets/base",
            "_model_module_version": "1.2.0",
            "_model_name": "LayoutModel",
            "_view_count": null,
            "_view_module": "@jupyter-widgets/base",
            "_view_module_version": "1.2.0",
            "_view_name": "LayoutView",
            "align_content": null,
            "align_items": null,
            "align_self": null,
            "border": null,
            "bottom": null,
            "display": null,
            "flex": null,
            "flex_flow": null,
            "grid_area": null,
            "grid_auto_columns": null,
            "grid_auto_flow": null,
            "grid_auto_rows": null,
            "grid_column": null,
            "grid_gap": null,
            "grid_row": null,
            "grid_template_areas": null,
            "grid_template_columns": null,
            "grid_template_rows": null,
            "height": null,
            "justify_content": null,
            "justify_items": null,
            "left": null,
            "margin": null,
            "max_height": null,
            "max_width": null,
            "min_height": null,
            "min_width": null,
            "object_fit": null,
            "object_position": null,
            "order": null,
            "overflow": null,
            "overflow_x": null,
            "overflow_y": null,
            "padding": null,
            "right": null,
            "top": null,
            "visibility": null,
            "width": null
          }
        },
        "7cd276ae872b4904ae975036c5e602da": {
          "model_module": "@jupyter-widgets/controls",
          "model_name": "ProgressStyleModel",
          "model_module_version": "1.5.0",
          "state": {
            "_model_module": "@jupyter-widgets/controls",
            "_model_module_version": "1.5.0",
            "_model_name": "ProgressStyleModel",
            "_view_count": null,
            "_view_module": "@jupyter-widgets/base",
            "_view_module_version": "1.2.0",
            "_view_name": "StyleView",
            "bar_color": null,
            "description_width": ""
          }
        },
        "e2c40d25614040a48f85d7e6f6738e8a": {
          "model_module": "@jupyter-widgets/base",
          "model_name": "LayoutModel",
          "model_module_version": "1.2.0",
          "state": {
            "_model_module": "@jupyter-widgets/base",
            "_model_module_version": "1.2.0",
            "_model_name": "LayoutModel",
            "_view_count": null,
            "_view_module": "@jupyter-widgets/base",
            "_view_module_version": "1.2.0",
            "_view_name": "LayoutView",
            "align_content": null,
            "align_items": null,
            "align_self": null,
            "border": null,
            "bottom": null,
            "display": null,
            "flex": null,
            "flex_flow": null,
            "grid_area": null,
            "grid_auto_columns": null,
            "grid_auto_flow": null,
            "grid_auto_rows": null,
            "grid_column": null,
            "grid_gap": null,
            "grid_row": null,
            "grid_template_areas": null,
            "grid_template_columns": null,
            "grid_template_rows": null,
            "height": null,
            "justify_content": null,
            "justify_items": null,
            "left": null,
            "margin": null,
            "max_height": null,
            "max_width": null,
            "min_height": null,
            "min_width": null,
            "object_fit": null,
            "object_position": null,
            "order": null,
            "overflow": null,
            "overflow_x": null,
            "overflow_y": null,
            "padding": null,
            "right": null,
            "top": null,
            "visibility": null,
            "width": null
          }
        },
        "45406984b43c4a82a5d294a2c0270499": {
          "model_module": "@jupyter-widgets/controls",
          "model_name": "DescriptionStyleModel",
          "model_module_version": "1.5.0",
          "state": {
            "_model_module": "@jupyter-widgets/controls",
            "_model_module_version": "1.5.0",
            "_model_name": "DescriptionStyleModel",
            "_view_count": null,
            "_view_module": "@jupyter-widgets/base",
            "_view_module_version": "1.2.0",
            "_view_name": "StyleView",
            "description_width": ""
          }
        },
        "2c53bc3fd57d41cf94262f4e184167ba": {
          "model_module": "@jupyter-widgets/controls",
          "model_name": "HBoxModel",
          "model_module_version": "1.5.0",
          "state": {
            "_dom_classes": [],
            "_model_module": "@jupyter-widgets/controls",
            "_model_module_version": "1.5.0",
            "_model_name": "HBoxModel",
            "_view_count": null,
            "_view_module": "@jupyter-widgets/controls",
            "_view_module_version": "1.5.0",
            "_view_name": "HBoxView",
            "box_style": "",
            "children": [
              "IPY_MODEL_e19aa53ab9ff456facc8c8d61973d88b",
              "IPY_MODEL_50917b6e4cd541f5ae98d941dd14eb28",
              "IPY_MODEL_a00d115e6473405cbce8ed26779dee69"
            ],
            "layout": "IPY_MODEL_f0fc9256212c446cb49daccbd24f2a73"
          }
        },
        "e19aa53ab9ff456facc8c8d61973d88b": {
          "model_module": "@jupyter-widgets/controls",
          "model_name": "HTMLModel",
          "model_module_version": "1.5.0",
          "state": {
            "_dom_classes": [],
            "_model_module": "@jupyter-widgets/controls",
            "_model_module_version": "1.5.0",
            "_model_name": "HTMLModel",
            "_view_count": null,
            "_view_module": "@jupyter-widgets/controls",
            "_view_module_version": "1.5.0",
            "_view_name": "HTMLView",
            "description": "",
            "description_tooltip": null,
            "layout": "IPY_MODEL_bebb24848e414f71a65f521407804eae",
            "placeholder": "​",
            "style": "IPY_MODEL_ee89fedd98824fb28333188227cd615c",
            "value": "tokenizer.json: 100%"
          }
        },
        "50917b6e4cd541f5ae98d941dd14eb28": {
          "model_module": "@jupyter-widgets/controls",
          "model_name": "FloatProgressModel",
          "model_module_version": "1.5.0",
          "state": {
            "_dom_classes": [],
            "_model_module": "@jupyter-widgets/controls",
            "_model_module_version": "1.5.0",
            "_model_name": "FloatProgressModel",
            "_view_count": null,
            "_view_module": "@jupyter-widgets/controls",
            "_view_module_version": "1.5.0",
            "_view_name": "ProgressView",
            "bar_style": "success",
            "description": "",
            "description_tooltip": null,
            "layout": "IPY_MODEL_57632e4b46c14d478bb77880ff5ce843",
            "max": 1355863,
            "min": 0,
            "orientation": "horizontal",
            "style": "IPY_MODEL_d9f28c01cf1344e8a1390d6e372e0e22",
            "value": 1355863
          }
        },
        "a00d115e6473405cbce8ed26779dee69": {
          "model_module": "@jupyter-widgets/controls",
          "model_name": "HTMLModel",
          "model_module_version": "1.5.0",
          "state": {
            "_dom_classes": [],
            "_model_module": "@jupyter-widgets/controls",
            "_model_module_version": "1.5.0",
            "_model_name": "HTMLModel",
            "_view_count": null,
            "_view_module": "@jupyter-widgets/controls",
            "_view_module_version": "1.5.0",
            "_view_name": "HTMLView",
            "description": "",
            "description_tooltip": null,
            "layout": "IPY_MODEL_baf70836f57d438d9ba972b094fbe347",
            "placeholder": "​",
            "style": "IPY_MODEL_078ae8bc3cd249e9bc7a0782c42ad2da",
            "value": " 1.36M/1.36M [00:00&lt;00:00, 4.59MB/s]"
          }
        },
        "f0fc9256212c446cb49daccbd24f2a73": {
          "model_module": "@jupyter-widgets/base",
          "model_name": "LayoutModel",
          "model_module_version": "1.2.0",
          "state": {
            "_model_module": "@jupyter-widgets/base",
            "_model_module_version": "1.2.0",
            "_model_name": "LayoutModel",
            "_view_count": null,
            "_view_module": "@jupyter-widgets/base",
            "_view_module_version": "1.2.0",
            "_view_name": "LayoutView",
            "align_content": null,
            "align_items": null,
            "align_self": null,
            "border": null,
            "bottom": null,
            "display": null,
            "flex": null,
            "flex_flow": null,
            "grid_area": null,
            "grid_auto_columns": null,
            "grid_auto_flow": null,
            "grid_auto_rows": null,
            "grid_column": null,
            "grid_gap": null,
            "grid_row": null,
            "grid_template_areas": null,
            "grid_template_columns": null,
            "grid_template_rows": null,
            "height": null,
            "justify_content": null,
            "justify_items": null,
            "left": null,
            "margin": null,
            "max_height": null,
            "max_width": null,
            "min_height": null,
            "min_width": null,
            "object_fit": null,
            "object_position": null,
            "order": null,
            "overflow": null,
            "overflow_x": null,
            "overflow_y": null,
            "padding": null,
            "right": null,
            "top": null,
            "visibility": null,
            "width": null
          }
        },
        "bebb24848e414f71a65f521407804eae": {
          "model_module": "@jupyter-widgets/base",
          "model_name": "LayoutModel",
          "model_module_version": "1.2.0",
          "state": {
            "_model_module": "@jupyter-widgets/base",
            "_model_module_version": "1.2.0",
            "_model_name": "LayoutModel",
            "_view_count": null,
            "_view_module": "@jupyter-widgets/base",
            "_view_module_version": "1.2.0",
            "_view_name": "LayoutView",
            "align_content": null,
            "align_items": null,
            "align_self": null,
            "border": null,
            "bottom": null,
            "display": null,
            "flex": null,
            "flex_flow": null,
            "grid_area": null,
            "grid_auto_columns": null,
            "grid_auto_flow": null,
            "grid_auto_rows": null,
            "grid_column": null,
            "grid_gap": null,
            "grid_row": null,
            "grid_template_areas": null,
            "grid_template_columns": null,
            "grid_template_rows": null,
            "height": null,
            "justify_content": null,
            "justify_items": null,
            "left": null,
            "margin": null,
            "max_height": null,
            "max_width": null,
            "min_height": null,
            "min_width": null,
            "object_fit": null,
            "object_position": null,
            "order": null,
            "overflow": null,
            "overflow_x": null,
            "overflow_y": null,
            "padding": null,
            "right": null,
            "top": null,
            "visibility": null,
            "width": null
          }
        },
        "ee89fedd98824fb28333188227cd615c": {
          "model_module": "@jupyter-widgets/controls",
          "model_name": "DescriptionStyleModel",
          "model_module_version": "1.5.0",
          "state": {
            "_model_module": "@jupyter-widgets/controls",
            "_model_module_version": "1.5.0",
            "_model_name": "DescriptionStyleModel",
            "_view_count": null,
            "_view_module": "@jupyter-widgets/base",
            "_view_module_version": "1.2.0",
            "_view_name": "StyleView",
            "description_width": ""
          }
        },
        "57632e4b46c14d478bb77880ff5ce843": {
          "model_module": "@jupyter-widgets/base",
          "model_name": "LayoutModel",
          "model_module_version": "1.2.0",
          "state": {
            "_model_module": "@jupyter-widgets/base",
            "_model_module_version": "1.2.0",
            "_model_name": "LayoutModel",
            "_view_count": null,
            "_view_module": "@jupyter-widgets/base",
            "_view_module_version": "1.2.0",
            "_view_name": "LayoutView",
            "align_content": null,
            "align_items": null,
            "align_self": null,
            "border": null,
            "bottom": null,
            "display": null,
            "flex": null,
            "flex_flow": null,
            "grid_area": null,
            "grid_auto_columns": null,
            "grid_auto_flow": null,
            "grid_auto_rows": null,
            "grid_column": null,
            "grid_gap": null,
            "grid_row": null,
            "grid_template_areas": null,
            "grid_template_columns": null,
            "grid_template_rows": null,
            "height": null,
            "justify_content": null,
            "justify_items": null,
            "left": null,
            "margin": null,
            "max_height": null,
            "max_width": null,
            "min_height": null,
            "min_width": null,
            "object_fit": null,
            "object_position": null,
            "order": null,
            "overflow": null,
            "overflow_x": null,
            "overflow_y": null,
            "padding": null,
            "right": null,
            "top": null,
            "visibility": null,
            "width": null
          }
        },
        "d9f28c01cf1344e8a1390d6e372e0e22": {
          "model_module": "@jupyter-widgets/controls",
          "model_name": "ProgressStyleModel",
          "model_module_version": "1.5.0",
          "state": {
            "_model_module": "@jupyter-widgets/controls",
            "_model_module_version": "1.5.0",
            "_model_name": "ProgressStyleModel",
            "_view_count": null,
            "_view_module": "@jupyter-widgets/base",
            "_view_module_version": "1.2.0",
            "_view_name": "StyleView",
            "bar_color": null,
            "description_width": ""
          }
        },
        "baf70836f57d438d9ba972b094fbe347": {
          "model_module": "@jupyter-widgets/base",
          "model_name": "LayoutModel",
          "model_module_version": "1.2.0",
          "state": {
            "_model_module": "@jupyter-widgets/base",
            "_model_module_version": "1.2.0",
            "_model_name": "LayoutModel",
            "_view_count": null,
            "_view_module": "@jupyter-widgets/base",
            "_view_module_version": "1.2.0",
            "_view_name": "LayoutView",
            "align_content": null,
            "align_items": null,
            "align_self": null,
            "border": null,
            "bottom": null,
            "display": null,
            "flex": null,
            "flex_flow": null,
            "grid_area": null,
            "grid_auto_columns": null,
            "grid_auto_flow": null,
            "grid_auto_rows": null,
            "grid_column": null,
            "grid_gap": null,
            "grid_row": null,
            "grid_template_areas": null,
            "grid_template_columns": null,
            "grid_template_rows": null,
            "height": null,
            "justify_content": null,
            "justify_items": null,
            "left": null,
            "margin": null,
            "max_height": null,
            "max_width": null,
            "min_height": null,
            "min_width": null,
            "object_fit": null,
            "object_position": null,
            "order": null,
            "overflow": null,
            "overflow_x": null,
            "overflow_y": null,
            "padding": null,
            "right": null,
            "top": null,
            "visibility": null,
            "width": null
          }
        },
        "078ae8bc3cd249e9bc7a0782c42ad2da": {
          "model_module": "@jupyter-widgets/controls",
          "model_name": "DescriptionStyleModel",
          "model_module_version": "1.5.0",
          "state": {
            "_model_module": "@jupyter-widgets/controls",
            "_model_module_version": "1.5.0",
            "_model_name": "DescriptionStyleModel",
            "_view_count": null,
            "_view_module": "@jupyter-widgets/base",
            "_view_module_version": "1.2.0",
            "_view_name": "StyleView",
            "description_width": ""
          }
        }
      }
    }
  },
  "nbformat": 4,
  "nbformat_minor": 0
}